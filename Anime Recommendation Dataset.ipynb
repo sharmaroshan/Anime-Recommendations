{
 "cells": [
  {
   "cell_type": "code",
   "execution_count": 1,
   "metadata": {},
   "outputs": [],
   "source": [
    "# for basic libraries\n",
    "import numpy as np\n",
    "import pandas as pd\n",
    "import pandas_profiling as profile\n",
    "\n",
    "# for data visualization\n",
    "import matplotlib.pyplot as plt\n",
    "import seaborn as sns\n",
    "\n",
    "# for interativity\n",
    "import ipywidgets as widgets\n",
    "from ipywidgets import interact\n",
    "from ipywidgets import interact_manual"
   ]
  },
  {
   "cell_type": "code",
   "execution_count": 2,
   "metadata": {},
   "outputs": [],
   "source": [
    "# lets read the dataset\n",
    "\n",
    "anime = pd.read_csv('anime.csv')\n",
    "ratings = pd.read_csv('rating.csv')"
   ]
  },
  {
   "cell_type": "code",
   "execution_count": 3,
   "metadata": {},
   "outputs": [
    {
     "name": "stdout",
     "output_type": "stream",
     "text": [
      "Shape of the Anime Dataset : (12294, 7)\n",
      "Shape of the Ratings Dataset : (7813737, 3)\n"
     ]
    }
   ],
   "source": [
    "# lets check the shape of the dataset\n",
    "\n",
    "print(\"Shape of the Anime Dataset :\", anime.shape)\n",
    "print(\"Shape of the Ratings Dataset :\", ratings.shape)"
   ]
  },
  {
   "cell_type": "code",
   "execution_count": 4,
   "metadata": {},
   "outputs": [
    {
     "data": {
      "application/vnd.jupyter.widget-view+json": {
       "model_id": "cb88ede0f4cf44889c0fbade64f8bdcd"
      },
      "text/html": [
       "<div>\n",
       "<style scoped>\n",
       "    .dataframe tbody tr th:only-of-type {\n",
       "        vertical-align: middle;\n",
       "    }\n",
       "\n",
       "    .dataframe tbody tr th {\n",
       "        vertical-align: top;\n",
       "    }\n",
       "\n",
       "    .dataframe thead th {\n",
       "        text-align: right;\n",
       "    }\n",
       "</style>\n",
       "<table border=\"1\" class=\"dataframe\">\n",
       "  <thead>\n",
       "    <tr style=\"text-align: right;\">\n",
       "      <th></th>\n",
       "      <th>anime_id</th>\n",
       "      <th>name</th>\n",
       "      <th>genre</th>\n",
       "      <th>type</th>\n",
       "      <th>episodes</th>\n",
       "      <th>rating</th>\n",
       "      <th>members</th>\n",
       "    </tr>\n",
       "  </thead>\n",
       "  <tbody>\n",
       "    <tr>\n",
       "      <th>0</th>\n",
       "      <td>32281</td>\n",
       "      <td>Kimi no Na wa.</td>\n",
       "      <td>Drama, Romance, School, Supernatural</td>\n",
       "      <td>Movie</td>\n",
       "      <td>1</td>\n",
       "      <td>9.37</td>\n",
       "      <td>200630</td>\n",
       "    </tr>\n",
       "    <tr>\n",
       "      <th>1</th>\n",
       "      <td>5114</td>\n",
       "      <td>Fullmetal Alchemist: Brotherhood</td>\n",
       "      <td>Action, Adventure, Drama, Fantasy, Magic, Mili...</td>\n",
       "      <td>TV</td>\n",
       "      <td>64</td>\n",
       "      <td>9.26</td>\n",
       "      <td>793665</td>\n",
       "    </tr>\n",
       "    <tr>\n",
       "      <th>2</th>\n",
       "      <td>28977</td>\n",
       "      <td>Gintama°</td>\n",
       "      <td>Action, Comedy, Historical, Parody, Samurai, S...</td>\n",
       "      <td>TV</td>\n",
       "      <td>51</td>\n",
       "      <td>9.25</td>\n",
       "      <td>114262</td>\n",
       "    </tr>\n",
       "    <tr>\n",
       "      <th>3</th>\n",
       "      <td>9253</td>\n",
       "      <td>Steins;Gate</td>\n",
       "      <td>Sci-Fi, Thriller</td>\n",
       "      <td>TV</td>\n",
       "      <td>24</td>\n",
       "      <td>9.17</td>\n",
       "      <td>673572</td>\n",
       "    </tr>\n",
       "    <tr>\n",
       "      <th>4</th>\n",
       "      <td>9969</td>\n",
       "      <td>Gintama&amp;#039;</td>\n",
       "      <td>Action, Comedy, Historical, Parody, Samurai, S...</td>\n",
       "      <td>TV</td>\n",
       "      <td>51</td>\n",
       "      <td>9.16</td>\n",
       "      <td>151266</td>\n",
       "    </tr>\n",
       "  </tbody>\n",
       "</table>\n",
       "</div>"
      ],
      "text/plain": [
       "   anime_id                              name  \\\n",
       "0     32281                    Kimi no Na wa.   \n",
       "1      5114  Fullmetal Alchemist: Brotherhood   \n",
       "2     28977                          Gintama°   \n",
       "3      9253                       Steins;Gate   \n",
       "4      9969                     Gintama&#039;   \n",
       "\n",
       "                                               genre   type episodes  rating  \\\n",
       "0               Drama, Romance, School, Supernatural  Movie        1    9.37   \n",
       "1  Action, Adventure, Drama, Fantasy, Magic, Mili...     TV       64    9.26   \n",
       "2  Action, Comedy, Historical, Parody, Samurai, S...     TV       51    9.25   \n",
       "3                                   Sci-Fi, Thriller     TV       24    9.17   \n",
       "4  Action, Comedy, Historical, Parody, Samurai, S...     TV       51    9.16   \n",
       "\n",
       "   members  \n",
       "0   200630  \n",
       "1   793665  \n",
       "2   114262  \n",
       "3   673572  \n",
       "4   151266  "
      ]
     },
     "metadata": {},
     "output_type": "display_data"
    }
   ],
   "source": [
    "# lets check the head of the anime dataset\n",
    "anime.head()"
   ]
  },
  {
   "cell_type": "code",
   "execution_count": 5,
   "metadata": {},
   "outputs": [
    {
     "data": {
      "application/vnd.jupyter.widget-view+json": {
       "model_id": "7635f29b55bb4f21906e8fda70de5f76"
      },
      "text/html": [
       "<div>\n",
       "<style scoped>\n",
       "    .dataframe tbody tr th:only-of-type {\n",
       "        vertical-align: middle;\n",
       "    }\n",
       "\n",
       "    .dataframe tbody tr th {\n",
       "        vertical-align: top;\n",
       "    }\n",
       "\n",
       "    .dataframe thead th {\n",
       "        text-align: right;\n",
       "    }\n",
       "</style>\n",
       "<table border=\"1\" class=\"dataframe\">\n",
       "  <thead>\n",
       "    <tr style=\"text-align: right;\">\n",
       "      <th></th>\n",
       "      <th>anime_id</th>\n",
       "      <th>name</th>\n",
       "      <th>genre</th>\n",
       "      <th>type</th>\n",
       "      <th>episodes</th>\n",
       "      <th>rating</th>\n",
       "      <th>members</th>\n",
       "    </tr>\n",
       "  </thead>\n",
       "  <tbody>\n",
       "    <tr>\n",
       "      <th>6955</th>\n",
       "      <td>21771</td>\n",
       "      <td>Romantica Clock</td>\n",
       "      <td>Shoujo</td>\n",
       "      <td>Special</td>\n",
       "      <td>3</td>\n",
       "      <td>5.83</td>\n",
       "      <td>8491</td>\n",
       "    </tr>\n",
       "    <tr>\n",
       "      <th>5012</th>\n",
       "      <td>30218</td>\n",
       "      <td>The iDOLM@STER Cinderella Girls: Special Program</td>\n",
       "      <td>Comedy, Music</td>\n",
       "      <td>Special</td>\n",
       "      <td>1</td>\n",
       "      <td>6.57</td>\n",
       "      <td>1802</td>\n",
       "    </tr>\n",
       "    <tr>\n",
       "      <th>1072</th>\n",
       "      <td>32681</td>\n",
       "      <td>Uchuu Patrol Luluco</td>\n",
       "      <td>Action, Adventure, Comedy, Space</td>\n",
       "      <td>TV</td>\n",
       "      <td>13</td>\n",
       "      <td>7.70</td>\n",
       "      <td>50236</td>\n",
       "    </tr>\n",
       "  </tbody>\n",
       "</table>\n",
       "</div>"
      ],
      "text/plain": [
       "      anime_id                                              name  \\\n",
       "6955     21771                                   Romantica Clock   \n",
       "5012     30218  The iDOLM@STER Cinderella Girls: Special Program   \n",
       "1072     32681                               Uchuu Patrol Luluco   \n",
       "\n",
       "                                 genre     type episodes  rating  members  \n",
       "6955                            Shoujo  Special        3    5.83     8491  \n",
       "5012                     Comedy, Music  Special        1    6.57     1802  \n",
       "1072  Action, Adventure, Comedy, Space       TV       13    7.70    50236  "
      ]
     },
     "metadata": {},
     "output_type": "display_data"
    }
   ],
   "source": [
    "# lets also check the sample of the anime dataset\n",
    "anime.sample(3)"
   ]
  },
  {
   "cell_type": "code",
   "execution_count": 6,
   "metadata": {},
   "outputs": [
    {
     "name": "stdout",
     "output_type": "stream",
     "text": [
      "<class 'pandas.core.frame.DataFrame'>\n",
      "RangeIndex: 12294 entries, 0 to 12293\n",
      "Data columns (total 7 columns):\n",
      "anime_id    12294 non-null int64\n",
      "name        12294 non-null object\n",
      "genre       12232 non-null object\n",
      "type        12269 non-null object\n",
      "episodes    12294 non-null object\n",
      "rating      12064 non-null float64\n",
      "members     12294 non-null int64\n",
      "dtypes: float64(1), int64(2), object(4)\n",
      "memory usage: 672.5+ KB\n"
     ]
    }
   ],
   "source": [
    "# lets check the info of the dataset\n",
    "anime.info()"
   ]
  },
  {
   "cell_type": "code",
   "execution_count": 7,
   "metadata": {},
   "outputs": [
    {
     "data": {
      "text/plain": [
       "anime_id      int64\n",
       "name         object\n",
       "genre        object\n",
       "type         object\n",
       "episodes     object\n",
       "rating      float64\n",
       "members       int64\n",
       "dtype: object"
      ]
     },
     "execution_count": 7,
     "metadata": {},
     "output_type": "execute_result"
    }
   ],
   "source": [
    "# lets check the datatypes of the attributes inside data\n",
    "anime.dtypes"
   ]
  },
  {
   "cell_type": "code",
   "execution_count": 8,
   "metadata": {},
   "outputs": [
    {
     "data": {
      "text/html": [
       "<style  type=\"text/css\" >\n",
       "    #T_c118ccb8_539f_11ea_9c42_023239005202row0_col0 {\n",
       "            width:  10em;\n",
       "             height:  80%;\n",
       "        }    #T_c118ccb8_539f_11ea_9c42_023239005202row1_col0 {\n",
       "            width:  10em;\n",
       "             height:  80%;\n",
       "        }    #T_c118ccb8_539f_11ea_9c42_023239005202row2_col0 {\n",
       "            width:  10em;\n",
       "             height:  80%;\n",
       "            background:  linear-gradient(90deg,grey 27.0%, transparent 27.0%);\n",
       "        }    #T_c118ccb8_539f_11ea_9c42_023239005202row3_col0 {\n",
       "            width:  10em;\n",
       "             height:  80%;\n",
       "            background:  linear-gradient(90deg,grey 10.9%, transparent 10.9%);\n",
       "        }    #T_c118ccb8_539f_11ea_9c42_023239005202row4_col0 {\n",
       "            width:  10em;\n",
       "             height:  80%;\n",
       "        }    #T_c118ccb8_539f_11ea_9c42_023239005202row5_col0 {\n",
       "            width:  10em;\n",
       "             height:  80%;\n",
       "            background:  linear-gradient(90deg,grey 100.0%, transparent 100.0%);\n",
       "        }    #T_c118ccb8_539f_11ea_9c42_023239005202row6_col0 {\n",
       "            width:  10em;\n",
       "             height:  80%;\n",
       "        }</style><table id=\"T_c118ccb8_539f_11ea_9c42_023239005202\" ><thead>    <tr>        <th class=\"blank level0\" ></th>        <th class=\"col_heading level0 col0\" >0</th>    </tr></thead><tbody>\n",
       "                <tr>\n",
       "                        <th id=\"T_c118ccb8_539f_11ea_9c42_023239005202level0_row0\" class=\"row_heading level0 row0\" >anime_id</th>\n",
       "                        <td id=\"T_c118ccb8_539f_11ea_9c42_023239005202row0_col0\" class=\"data row0 col0\" >0</td>\n",
       "            </tr>\n",
       "            <tr>\n",
       "                        <th id=\"T_c118ccb8_539f_11ea_9c42_023239005202level0_row1\" class=\"row_heading level0 row1\" >name</th>\n",
       "                        <td id=\"T_c118ccb8_539f_11ea_9c42_023239005202row1_col0\" class=\"data row1 col0\" >0</td>\n",
       "            </tr>\n",
       "            <tr>\n",
       "                        <th id=\"T_c118ccb8_539f_11ea_9c42_023239005202level0_row2\" class=\"row_heading level0 row2\" >genre</th>\n",
       "                        <td id=\"T_c118ccb8_539f_11ea_9c42_023239005202row2_col0\" class=\"data row2 col0\" >62</td>\n",
       "            </tr>\n",
       "            <tr>\n",
       "                        <th id=\"T_c118ccb8_539f_11ea_9c42_023239005202level0_row3\" class=\"row_heading level0 row3\" >type</th>\n",
       "                        <td id=\"T_c118ccb8_539f_11ea_9c42_023239005202row3_col0\" class=\"data row3 col0\" >25</td>\n",
       "            </tr>\n",
       "            <tr>\n",
       "                        <th id=\"T_c118ccb8_539f_11ea_9c42_023239005202level0_row4\" class=\"row_heading level0 row4\" >episodes</th>\n",
       "                        <td id=\"T_c118ccb8_539f_11ea_9c42_023239005202row4_col0\" class=\"data row4 col0\" >0</td>\n",
       "            </tr>\n",
       "            <tr>\n",
       "                        <th id=\"T_c118ccb8_539f_11ea_9c42_023239005202level0_row5\" class=\"row_heading level0 row5\" >rating</th>\n",
       "                        <td id=\"T_c118ccb8_539f_11ea_9c42_023239005202row5_col0\" class=\"data row5 col0\" >230</td>\n",
       "            </tr>\n",
       "            <tr>\n",
       "                        <th id=\"T_c118ccb8_539f_11ea_9c42_023239005202level0_row6\" class=\"row_heading level0 row6\" >members</th>\n",
       "                        <td id=\"T_c118ccb8_539f_11ea_9c42_023239005202row6_col0\" class=\"data row6 col0\" >0</td>\n",
       "            </tr>\n",
       "    </tbody></table>"
      ],
      "text/plain": [
       "<pandas.io.formats.style.Styler at 0x18748451208>"
      ]
     },
     "execution_count": 8,
     "metadata": {},
     "output_type": "execute_result"
    }
   ],
   "source": [
    "# lets check the null values in the anime dataset\n",
    "x = anime.isnull().sum()\n",
    "x = pd.DataFrame(x)\n",
    "x.style.bar(color = 'grey')"
   ]
  },
  {
   "cell_type": "code",
   "execution_count": 9,
   "metadata": {},
   "outputs": [
    {
     "data": {
      "application/vnd.jupyter.widget-view+json": {
       "model_id": "8f2e55b75e7d4107b0cffd680e54cf6d"
      },
      "text/html": [
       "<div>\n",
       "<style scoped>\n",
       "    .dataframe tbody tr th:only-of-type {\n",
       "        vertical-align: middle;\n",
       "    }\n",
       "\n",
       "    .dataframe tbody tr th {\n",
       "        vertical-align: top;\n",
       "    }\n",
       "\n",
       "    .dataframe thead th {\n",
       "        text-align: right;\n",
       "    }\n",
       "</style>\n",
       "<table border=\"1\" class=\"dataframe\">\n",
       "  <thead>\n",
       "    <tr style=\"text-align: right;\">\n",
       "      <th></th>\n",
       "      <th>user_id</th>\n",
       "      <th>anime_id</th>\n",
       "      <th>rating</th>\n",
       "    </tr>\n",
       "  </thead>\n",
       "  <tbody>\n",
       "    <tr>\n",
       "      <th>0</th>\n",
       "      <td>1</td>\n",
       "      <td>20</td>\n",
       "      <td>-1</td>\n",
       "    </tr>\n",
       "    <tr>\n",
       "      <th>1</th>\n",
       "      <td>1</td>\n",
       "      <td>24</td>\n",
       "      <td>-1</td>\n",
       "    </tr>\n",
       "    <tr>\n",
       "      <th>2</th>\n",
       "      <td>1</td>\n",
       "      <td>79</td>\n",
       "      <td>-1</td>\n",
       "    </tr>\n",
       "    <tr>\n",
       "      <th>3</th>\n",
       "      <td>1</td>\n",
       "      <td>226</td>\n",
       "      <td>-1</td>\n",
       "    </tr>\n",
       "    <tr>\n",
       "      <th>4</th>\n",
       "      <td>1</td>\n",
       "      <td>241</td>\n",
       "      <td>-1</td>\n",
       "    </tr>\n",
       "  </tbody>\n",
       "</table>\n",
       "</div>"
      ],
      "text/plain": [
       "   user_id  anime_id  rating\n",
       "0        1        20      -1\n",
       "1        1        24      -1\n",
       "2        1        79      -1\n",
       "3        1       226      -1\n",
       "4        1       241      -1"
      ]
     },
     "metadata": {},
     "output_type": "display_data"
    }
   ],
   "source": [
    "# lets check the head of the ratings dataset\n",
    "ratings.head()"
   ]
  },
  {
   "cell_type": "code",
   "execution_count": 10,
   "metadata": {},
   "outputs": [
    {
     "data": {
      "text/html": [
       "<style  type=\"text/css\" >\n",
       "    #T_c1c5e2b6_539f_11ea_9c78_023239005202row0_col0 {\n",
       "            width:  10em;\n",
       "             height:  80%;\n",
       "        }    #T_c1c5e2b6_539f_11ea_9c78_023239005202row1_col0 {\n",
       "            width:  10em;\n",
       "             height:  80%;\n",
       "        }    #T_c1c5e2b6_539f_11ea_9c78_023239005202row2_col0 {\n",
       "            width:  10em;\n",
       "             height:  80%;\n",
       "        }</style><table id=\"T_c1c5e2b6_539f_11ea_9c78_023239005202\" ><thead>    <tr>        <th class=\"blank level0\" ></th>        <th class=\"col_heading level0 col0\" >0</th>    </tr></thead><tbody>\n",
       "                <tr>\n",
       "                        <th id=\"T_c1c5e2b6_539f_11ea_9c78_023239005202level0_row0\" class=\"row_heading level0 row0\" >user_id</th>\n",
       "                        <td id=\"T_c1c5e2b6_539f_11ea_9c78_023239005202row0_col0\" class=\"data row0 col0\" >0</td>\n",
       "            </tr>\n",
       "            <tr>\n",
       "                        <th id=\"T_c1c5e2b6_539f_11ea_9c78_023239005202level0_row1\" class=\"row_heading level0 row1\" >anime_id</th>\n",
       "                        <td id=\"T_c1c5e2b6_539f_11ea_9c78_023239005202row1_col0\" class=\"data row1 col0\" >0</td>\n",
       "            </tr>\n",
       "            <tr>\n",
       "                        <th id=\"T_c1c5e2b6_539f_11ea_9c78_023239005202level0_row2\" class=\"row_heading level0 row2\" >rating</th>\n",
       "                        <td id=\"T_c1c5e2b6_539f_11ea_9c78_023239005202row2_col0\" class=\"data row2 col0\" >0</td>\n",
       "            </tr>\n",
       "    </tbody></table>"
      ],
      "text/plain": [
       "<pandas.io.formats.style.Styler at 0x1873adea860>"
      ]
     },
     "execution_count": 10,
     "metadata": {},
     "output_type": "execute_result"
    }
   ],
   "source": [
    "# lets check the null values in the anime dataset\n",
    "x = ratings.isnull().sum()\n",
    "x = pd.DataFrame(x)\n",
    "x.style.bar(color = 'grey')"
   ]
  },
  {
   "cell_type": "code",
   "execution_count": 11,
   "metadata": {},
   "outputs": [
    {
     "data": {
      "application/vnd.jupyter.widget-view+json": {
       "model_id": "3c1252b1d191431d85693ecae6b0f5c1"
      },
      "text/html": [
       "<div>\n",
       "<style scoped>\n",
       "    .dataframe tbody tr th:only-of-type {\n",
       "        vertical-align: middle;\n",
       "    }\n",
       "\n",
       "    .dataframe tbody tr th {\n",
       "        vertical-align: top;\n",
       "    }\n",
       "\n",
       "    .dataframe thead th {\n",
       "        text-align: right;\n",
       "    }\n",
       "</style>\n",
       "<table border=\"1\" class=\"dataframe\">\n",
       "  <thead>\n",
       "    <tr style=\"text-align: right;\">\n",
       "      <th></th>\n",
       "      <th>user_id</th>\n",
       "      <th>anime_id</th>\n",
       "      <th>rating</th>\n",
       "    </tr>\n",
       "  </thead>\n",
       "  <tbody>\n",
       "    <tr>\n",
       "      <th>4093140</th>\n",
       "      <td>38905</td>\n",
       "      <td>5420</td>\n",
       "      <td>8</td>\n",
       "    </tr>\n",
       "    <tr>\n",
       "      <th>803356</th>\n",
       "      <td>7421</td>\n",
       "      <td>15565</td>\n",
       "      <td>6</td>\n",
       "    </tr>\n",
       "    <tr>\n",
       "      <th>2633747</th>\n",
       "      <td>24887</td>\n",
       "      <td>2236</td>\n",
       "      <td>7</td>\n",
       "    </tr>\n",
       "  </tbody>\n",
       "</table>\n",
       "</div>"
      ],
      "text/plain": [
       "         user_id  anime_id  rating\n",
       "4093140    38905      5420       8\n",
       "803356      7421     15565       6\n",
       "2633747    24887      2236       7"
      ]
     },
     "metadata": {},
     "output_type": "display_data"
    }
   ],
   "source": [
    "# lets check the sample of the ratings dataset\n",
    "ratings.sample(3)"
   ]
  },
  {
   "cell_type": "code",
   "execution_count": 12,
   "metadata": {},
   "outputs": [
    {
     "data": {
      "text/html": [
       "<style  type=\"text/css\" >\n",
       "    #T_c3e4225a_539f_11ea_a43b_023239005202row0_col0 {\n",
       "            width:  10em;\n",
       "             height:  80%;\n",
       "            background:  linear-gradient(90deg,silver 35.6%, transparent 35.6%);\n",
       "        }    #T_c3e4225a_539f_11ea_a43b_023239005202row0_col1 {\n",
       "            width:  10em;\n",
       "             height:  80%;\n",
       "            background:  linear-gradient(90deg,silver 100.0%, transparent 100.0%);\n",
       "        }    #T_c3e4225a_539f_11ea_a43b_023239005202row0_col2 {\n",
       "            width:  10em;\n",
       "             height:  80%;\n",
       "            background:  linear-gradient(90deg,silver 1.2%, transparent 1.2%);\n",
       "        }    #T_c3e4225a_539f_11ea_a43b_023239005202row1_col0 {\n",
       "            width:  10em;\n",
       "             height:  80%;\n",
       "            background:  linear-gradient(90deg,silver 40.7%, transparent 40.7%);\n",
       "        }    #T_c3e4225a_539f_11ea_a43b_023239005202row1_col1 {\n",
       "            width:  10em;\n",
       "             height:  80%;\n",
       "            background:  linear-gradient(90deg,silver 0.1%, transparent 0.1%);\n",
       "        }    #T_c3e4225a_539f_11ea_a43b_023239005202row1_col2 {\n",
       "            width:  10em;\n",
       "             height:  80%;\n",
       "            background:  linear-gradient(90deg,silver 1.8%, transparent 1.8%);\n",
       "        }    #T_c3e4225a_539f_11ea_a43b_023239005202row2_col0 {\n",
       "            width:  10em;\n",
       "             height:  80%;\n",
       "            background:  linear-gradient(90deg,silver 33.2%, transparent 33.2%);\n",
       "        }    #T_c3e4225a_539f_11ea_a43b_023239005202row2_col1 {\n",
       "            width:  10em;\n",
       "             height:  80%;\n",
       "            background:  linear-gradient(90deg,silver 0.0%, transparent 0.0%);\n",
       "        }    #T_c3e4225a_539f_11ea_a43b_023239005202row2_col2 {\n",
       "            width:  10em;\n",
       "             height:  80%;\n",
       "            background:  linear-gradient(90deg,silver 5.4%, transparent 5.4%);\n",
       "        }    #T_c3e4225a_539f_11ea_a43b_023239005202row3_col0 {\n",
       "            width:  10em;\n",
       "             height:  80%;\n",
       "            background:  linear-gradient(90deg,silver 0.0%, transparent 0.0%);\n",
       "        }    #T_c3e4225a_539f_11ea_a43b_023239005202row3_col1 {\n",
       "            width:  10em;\n",
       "             height:  80%;\n",
       "            background:  linear-gradient(90deg,silver 0.0%, transparent 0.0%);\n",
       "        }    #T_c3e4225a_539f_11ea_a43b_023239005202row3_col2 {\n",
       "            width:  10em;\n",
       "             height:  80%;\n",
       "            background:  linear-gradient(90deg,silver 0.0%, transparent 0.0%);\n",
       "        }    #T_c3e4225a_539f_11ea_a43b_023239005202row4_col0 {\n",
       "            width:  10em;\n",
       "             height:  80%;\n",
       "            background:  linear-gradient(90deg,silver 10.1%, transparent 10.1%);\n",
       "        }    #T_c3e4225a_539f_11ea_a43b_023239005202row4_col1 {\n",
       "            width:  10em;\n",
       "             height:  80%;\n",
       "            background:  linear-gradient(90deg,silver 0.0%, transparent 0.0%);\n",
       "        }    #T_c3e4225a_539f_11ea_a43b_023239005202row4_col2 {\n",
       "            width:  10em;\n",
       "             height:  80%;\n",
       "            background:  linear-gradient(90deg,silver 0.0%, transparent 0.0%);\n",
       "        }    #T_c3e4225a_539f_11ea_a43b_023239005202row5_col0 {\n",
       "            width:  10em;\n",
       "             height:  80%;\n",
       "            background:  linear-gradient(90deg,silver 29.7%, transparent 29.7%);\n",
       "        }    #T_c3e4225a_539f_11ea_a43b_023239005202row5_col1 {\n",
       "            width:  10em;\n",
       "             height:  80%;\n",
       "            background:  linear-gradient(90deg,silver 0.1%, transparent 0.1%);\n",
       "        }    #T_c3e4225a_539f_11ea_a43b_023239005202row5_col2 {\n",
       "            width:  10em;\n",
       "             height:  80%;\n",
       "            background:  linear-gradient(90deg,silver 0.2%, transparent 0.2%);\n",
       "        }    #T_c3e4225a_539f_11ea_a43b_023239005202row6_col0 {\n",
       "            width:  10em;\n",
       "             height:  80%;\n",
       "            background:  linear-gradient(90deg,silver 71.8%, transparent 71.8%);\n",
       "        }    #T_c3e4225a_539f_11ea_a43b_023239005202row6_col1 {\n",
       "            width:  10em;\n",
       "             height:  80%;\n",
       "            background:  linear-gradient(90deg,silver 0.1%, transparent 0.1%);\n",
       "        }    #T_c3e4225a_539f_11ea_a43b_023239005202row6_col2 {\n",
       "            width:  10em;\n",
       "             height:  80%;\n",
       "            background:  linear-gradient(90deg,silver 0.9%, transparent 0.9%);\n",
       "        }    #T_c3e4225a_539f_11ea_a43b_023239005202row7_col0 {\n",
       "            width:  10em;\n",
       "             height:  80%;\n",
       "            background:  linear-gradient(90deg,silver 100.0%, transparent 100.0%);\n",
       "        }    #T_c3e4225a_539f_11ea_a43b_023239005202row7_col1 {\n",
       "            width:  10em;\n",
       "             height:  80%;\n",
       "            background:  linear-gradient(90deg,silver 0.1%, transparent 0.1%);\n",
       "        }    #T_c3e4225a_539f_11ea_a43b_023239005202row7_col2 {\n",
       "            width:  10em;\n",
       "             height:  80%;\n",
       "            background:  linear-gradient(90deg,silver 100.0%, transparent 100.0%);\n",
       "        }</style><table id=\"T_c3e4225a_539f_11ea_a43b_023239005202\" ><thead>    <tr>        <th class=\"blank level0\" ></th>        <th class=\"col_heading level0 col0\" >anime_id</th>        <th class=\"col_heading level0 col1\" >rating</th>        <th class=\"col_heading level0 col2\" >members</th>    </tr></thead><tbody>\n",
       "                <tr>\n",
       "                        <th id=\"T_c3e4225a_539f_11ea_a43b_023239005202level0_row0\" class=\"row_heading level0 row0\" >count</th>\n",
       "                        <td id=\"T_c3e4225a_539f_11ea_a43b_023239005202row0_col0\" class=\"data row0 col0\" >12294</td>\n",
       "                        <td id=\"T_c3e4225a_539f_11ea_a43b_023239005202row0_col1\" class=\"data row0 col1\" >12064</td>\n",
       "                        <td id=\"T_c3e4225a_539f_11ea_a43b_023239005202row0_col2\" class=\"data row0 col2\" >12294</td>\n",
       "            </tr>\n",
       "            <tr>\n",
       "                        <th id=\"T_c3e4225a_539f_11ea_a43b_023239005202level0_row1\" class=\"row_heading level0 row1\" >mean</th>\n",
       "                        <td id=\"T_c3e4225a_539f_11ea_a43b_023239005202row1_col0\" class=\"data row1 col0\" >14058.2</td>\n",
       "                        <td id=\"T_c3e4225a_539f_11ea_a43b_023239005202row1_col1\" class=\"data row1 col1\" >6.4739</td>\n",
       "                        <td id=\"T_c3e4225a_539f_11ea_a43b_023239005202row1_col2\" class=\"data row1 col2\" >18071.3</td>\n",
       "            </tr>\n",
       "            <tr>\n",
       "                        <th id=\"T_c3e4225a_539f_11ea_a43b_023239005202level0_row2\" class=\"row_heading level0 row2\" >std</th>\n",
       "                        <td id=\"T_c3e4225a_539f_11ea_a43b_023239005202row2_col0\" class=\"data row2 col0\" >11455.3</td>\n",
       "                        <td id=\"T_c3e4225a_539f_11ea_a43b_023239005202row2_col1\" class=\"data row2 col1\" >1.02675</td>\n",
       "                        <td id=\"T_c3e4225a_539f_11ea_a43b_023239005202row2_col2\" class=\"data row2 col2\" >54820.7</td>\n",
       "            </tr>\n",
       "            <tr>\n",
       "                        <th id=\"T_c3e4225a_539f_11ea_a43b_023239005202level0_row3\" class=\"row_heading level0 row3\" >min</th>\n",
       "                        <td id=\"T_c3e4225a_539f_11ea_a43b_023239005202row3_col0\" class=\"data row3 col0\" >1</td>\n",
       "                        <td id=\"T_c3e4225a_539f_11ea_a43b_023239005202row3_col1\" class=\"data row3 col1\" >1.67</td>\n",
       "                        <td id=\"T_c3e4225a_539f_11ea_a43b_023239005202row3_col2\" class=\"data row3 col2\" >5</td>\n",
       "            </tr>\n",
       "            <tr>\n",
       "                        <th id=\"T_c3e4225a_539f_11ea_a43b_023239005202level0_row4\" class=\"row_heading level0 row4\" >25%</th>\n",
       "                        <td id=\"T_c3e4225a_539f_11ea_a43b_023239005202row4_col0\" class=\"data row4 col0\" >3484.25</td>\n",
       "                        <td id=\"T_c3e4225a_539f_11ea_a43b_023239005202row4_col1\" class=\"data row4 col1\" >5.88</td>\n",
       "                        <td id=\"T_c3e4225a_539f_11ea_a43b_023239005202row4_col2\" class=\"data row4 col2\" >225</td>\n",
       "            </tr>\n",
       "            <tr>\n",
       "                        <th id=\"T_c3e4225a_539f_11ea_a43b_023239005202level0_row5\" class=\"row_heading level0 row5\" >50%</th>\n",
       "                        <td id=\"T_c3e4225a_539f_11ea_a43b_023239005202row5_col0\" class=\"data row5 col0\" >10260.5</td>\n",
       "                        <td id=\"T_c3e4225a_539f_11ea_a43b_023239005202row5_col1\" class=\"data row5 col1\" >6.57</td>\n",
       "                        <td id=\"T_c3e4225a_539f_11ea_a43b_023239005202row5_col2\" class=\"data row5 col2\" >1550</td>\n",
       "            </tr>\n",
       "            <tr>\n",
       "                        <th id=\"T_c3e4225a_539f_11ea_a43b_023239005202level0_row6\" class=\"row_heading level0 row6\" >75%</th>\n",
       "                        <td id=\"T_c3e4225a_539f_11ea_a43b_023239005202row6_col0\" class=\"data row6 col0\" >24794.5</td>\n",
       "                        <td id=\"T_c3e4225a_539f_11ea_a43b_023239005202row6_col1\" class=\"data row6 col1\" >7.18</td>\n",
       "                        <td id=\"T_c3e4225a_539f_11ea_a43b_023239005202row6_col2\" class=\"data row6 col2\" >9437</td>\n",
       "            </tr>\n",
       "            <tr>\n",
       "                        <th id=\"T_c3e4225a_539f_11ea_a43b_023239005202level0_row7\" class=\"row_heading level0 row7\" >max</th>\n",
       "                        <td id=\"T_c3e4225a_539f_11ea_a43b_023239005202row7_col0\" class=\"data row7 col0\" >34527</td>\n",
       "                        <td id=\"T_c3e4225a_539f_11ea_a43b_023239005202row7_col1\" class=\"data row7 col1\" >10</td>\n",
       "                        <td id=\"T_c3e4225a_539f_11ea_a43b_023239005202row7_col2\" class=\"data row7 col2\" >1.01392e+06</td>\n",
       "            </tr>\n",
       "    </tbody></table>"
      ],
      "text/plain": [
       "<pandas.io.formats.style.Styler at 0x1874a067f98>"
      ]
     },
     "execution_count": 12,
     "metadata": {},
     "output_type": "execute_result"
    }
   ],
   "source": [
    "# lets check the basic statistics of the dataset\n",
    "x = anime.describe()\n",
    "x.style.bar(color = ['pink', 'silver'], align = 'mid')"
   ]
  },
  {
   "cell_type": "code",
   "execution_count": 13,
   "metadata": {},
   "outputs": [
    {
     "data": {
      "text/html": [
       "<style  type=\"text/css\" >\n",
       "    #T_c40f72dc_539f_11ea_a0fd_023239005202row0_col0 {\n",
       "            width:  10em;\n",
       "             height:  80%;\n",
       "            background:  linear-gradient(90deg, transparent 22.2%, gold 22.2%, gold 100.0%, transparent 100.0%);\n",
       "        }    #T_c40f72dc_539f_11ea_a0fd_023239005202row0_col1 {\n",
       "            width:  10em;\n",
       "             height:  80%;\n",
       "            background:  linear-gradient(90deg,silver 22.2%, transparent 22.2%);\n",
       "        }    #T_c40f72dc_539f_11ea_a0fd_023239005202row0_col2 {\n",
       "            width:  10em;\n",
       "             height:  80%;\n",
       "            background:  linear-gradient(90deg,silver 7.4%, transparent 7.4%);\n",
       "        }    #T_c40f72dc_539f_11ea_a0fd_023239005202row1_col0 {\n",
       "            width:  10em;\n",
       "             height:  80%;\n",
       "            background:  linear-gradient(90deg,silver 22.2%, transparent 22.2%);\n",
       "        }    #T_c40f72dc_539f_11ea_a0fd_023239005202row1_col1 {\n",
       "            width:  10em;\n",
       "             height:  80%;\n",
       "            background:  linear-gradient(90deg, transparent 22.2%, gold 22.2%, gold 100.0%, transparent 100.0%);\n",
       "        }    #T_c40f72dc_539f_11ea_a0fd_023239005202row1_col2 {\n",
       "            width:  10em;\n",
       "             height:  80%;\n",
       "            background:  linear-gradient(90deg, transparent 7.4%, gold 7.4%, gold 43.3%, transparent 43.3%);\n",
       "        }    #T_c40f72dc_539f_11ea_a0fd_023239005202row2_col0 {\n",
       "            width:  10em;\n",
       "             height:  80%;\n",
       "            background:  linear-gradient(90deg, transparent 15.9%, silver 15.9%, silver 22.2%, transparent 22.2%);\n",
       "        }    #T_c40f72dc_539f_11ea_a0fd_023239005202row2_col1 {\n",
       "            width:  10em;\n",
       "             height:  80%;\n",
       "            background:  linear-gradient(90deg, transparent 22.2%, gold 22.2%, gold 52.4%, transparent 52.4%);\n",
       "        }    #T_c40f72dc_539f_11ea_a0fd_023239005202row2_col2 {\n",
       "            width:  10em;\n",
       "             height:  80%;\n",
       "            background:  linear-gradient(90deg, transparent 7.4%, gold 7.4%, gold 100.0%, transparent 100.0%);\n",
       "        }</style><table id=\"T_c40f72dc_539f_11ea_a0fd_023239005202\" ><thead>    <tr>        <th class=\"blank level0\" ></th>        <th class=\"col_heading level0 col0\" >anime_id</th>        <th class=\"col_heading level0 col1\" >rating</th>        <th class=\"col_heading level0 col2\" >members</th>    </tr></thead><tbody>\n",
       "                <tr>\n",
       "                        <th id=\"T_c40f72dc_539f_11ea_a0fd_023239005202level0_row0\" class=\"row_heading level0 row0\" >anime_id</th>\n",
       "                        <td id=\"T_c40f72dc_539f_11ea_a0fd_023239005202row0_col0\" class=\"data row0 col0\" >1</td>\n",
       "                        <td id=\"T_c40f72dc_539f_11ea_a0fd_023239005202row0_col1\" class=\"data row0 col1\" >-0.284625</td>\n",
       "                        <td id=\"T_c40f72dc_539f_11ea_a0fd_023239005202row0_col2\" class=\"data row0 col2\" >-0.0800712</td>\n",
       "            </tr>\n",
       "            <tr>\n",
       "                        <th id=\"T_c40f72dc_539f_11ea_a0fd_023239005202level0_row1\" class=\"row_heading level0 row1\" >rating</th>\n",
       "                        <td id=\"T_c40f72dc_539f_11ea_a0fd_023239005202row1_col0\" class=\"data row1 col0\" >-0.284625</td>\n",
       "                        <td id=\"T_c40f72dc_539f_11ea_a0fd_023239005202row1_col1\" class=\"data row1 col1\" >1</td>\n",
       "                        <td id=\"T_c40f72dc_539f_11ea_a0fd_023239005202row1_col2\" class=\"data row1 col2\" >0.387979</td>\n",
       "            </tr>\n",
       "            <tr>\n",
       "                        <th id=\"T_c40f72dc_539f_11ea_a0fd_023239005202level0_row2\" class=\"row_heading level0 row2\" >members</th>\n",
       "                        <td id=\"T_c40f72dc_539f_11ea_a0fd_023239005202row2_col0\" class=\"data row2 col0\" >-0.0800712</td>\n",
       "                        <td id=\"T_c40f72dc_539f_11ea_a0fd_023239005202row2_col1\" class=\"data row2 col1\" >0.387979</td>\n",
       "                        <td id=\"T_c40f72dc_539f_11ea_a0fd_023239005202row2_col2\" class=\"data row2 col2\" >1</td>\n",
       "            </tr>\n",
       "    </tbody></table>"
      ],
      "text/plain": [
       "<pandas.io.formats.style.Styler at 0x1874a0c7668>"
      ]
     },
     "execution_count": 13,
     "metadata": {},
     "output_type": "execute_result"
    }
   ],
   "source": [
    "# lets check the correlation in anime dataset\n",
    "x = anime.corr()\n",
    "x.style.bar(color = ['silver', 'gold'], align = 'mid')"
   ]
  },
  {
   "cell_type": "code",
   "execution_count": 14,
   "metadata": {},
   "outputs": [
    {
     "data": {
      "text/html": [
       "<style  type=\"text/css\" >\n",
       "    #T_c4e8beb4_539f_11ea_9f77_023239005202row0_col0 {\n",
       "            width:  10em;\n",
       "             height:  80%;\n",
       "            background:  linear-gradient(90deg, transparent 27.7%, gold 27.7%, gold 100.0%, transparent 100.0%);\n",
       "        }    #T_c4e8beb4_539f_11ea_9f77_023239005202row0_col1 {\n",
       "            width:  10em;\n",
       "             height:  80%;\n",
       "            background:  linear-gradient(90deg,silver 13.0%, transparent 13.0%);\n",
       "        }    #T_c4e8beb4_539f_11ea_9f77_023239005202row0_col2 {\n",
       "            width:  10em;\n",
       "             height:  80%;\n",
       "            background:  linear-gradient(90deg,silver 1.6%, transparent 1.6%);\n",
       "        }    #T_c4e8beb4_539f_11ea_9f77_023239005202row1_col0 {\n",
       "            width:  10em;\n",
       "             height:  80%;\n",
       "            background:  linear-gradient(90deg, transparent 27.7%, silver 27.7%, silver 27.7%, transparent 27.7%);\n",
       "        }    #T_c4e8beb4_539f_11ea_9f77_023239005202row1_col1 {\n",
       "            width:  10em;\n",
       "             height:  80%;\n",
       "            background:  linear-gradient(90deg, transparent 13.0%, gold 13.0%, gold 13.0%, transparent 13.0%);\n",
       "        }    #T_c4e8beb4_539f_11ea_9f77_023239005202row1_col2 {\n",
       "            width:  10em;\n",
       "             height:  80%;\n",
       "            background:  linear-gradient(90deg, transparent 1.6%, gold 1.6%, gold 1.6%, transparent 1.6%);\n",
       "        }    #T_c4e8beb4_539f_11ea_9f77_023239005202row2_col0 {\n",
       "            width:  10em;\n",
       "             height:  80%;\n",
       "            background:  linear-gradient(90deg,silver 27.7%, transparent 27.7%);\n",
       "        }    #T_c4e8beb4_539f_11ea_9f77_023239005202row2_col1 {\n",
       "            width:  10em;\n",
       "             height:  80%;\n",
       "            background:  linear-gradient(90deg, transparent 13.0%, gold 13.0%, gold 100.0%, transparent 100.0%);\n",
       "        }    #T_c4e8beb4_539f_11ea_9f77_023239005202row2_col2 {\n",
       "            width:  10em;\n",
       "             height:  80%;\n",
       "            background:  linear-gradient(90deg, transparent 1.6%, gold 1.6%, gold 100.0%, transparent 100.0%);\n",
       "        }</style><table id=\"T_c4e8beb4_539f_11ea_9f77_023239005202\" ><thead>    <tr>        <th class=\"blank level0\" ></th>        <th class=\"col_heading level0 col0\" >anime_id</th>        <th class=\"col_heading level0 col1\" >rating</th>        <th class=\"col_heading level0 col2\" >members</th>    </tr></thead><tbody>\n",
       "                <tr>\n",
       "                        <th id=\"T_c4e8beb4_539f_11ea_9f77_023239005202level0_row0\" class=\"row_heading level0 row0\" >anime_id</th>\n",
       "                        <td id=\"T_c4e8beb4_539f_11ea_9f77_023239005202row0_col0\" class=\"data row0 col0\" >1.31224e+08</td>\n",
       "                        <td id=\"T_c4e8beb4_539f_11ea_9f77_023239005202row0_col1\" class=\"data row0 col1\" >-3290.7</td>\n",
       "                        <td id=\"T_c4e8beb4_539f_11ea_9f77_023239005202row0_col2\" class=\"data row0 col2\" >-5.02837e+07</td>\n",
       "            </tr>\n",
       "            <tr>\n",
       "                        <th id=\"T_c4e8beb4_539f_11ea_9f77_023239005202level0_row1\" class=\"row_heading level0 row1\" >rating</th>\n",
       "                        <td id=\"T_c4e8beb4_539f_11ea_9f77_023239005202row1_col0\" class=\"data row1 col0\" >-3290.7</td>\n",
       "                        <td id=\"T_c4e8beb4_539f_11ea_9f77_023239005202row1_col1\" class=\"data row1 col1\" >1.05421</td>\n",
       "                        <td id=\"T_c4e8beb4_539f_11ea_9f77_023239005202row1_col2\" class=\"data row1 col2\" >22019.5</td>\n",
       "            </tr>\n",
       "            <tr>\n",
       "                        <th id=\"T_c4e8beb4_539f_11ea_9f77_023239005202level0_row2\" class=\"row_heading level0 row2\" >members</th>\n",
       "                        <td id=\"T_c4e8beb4_539f_11ea_9f77_023239005202row2_col0\" class=\"data row2 col0\" >-5.02837e+07</td>\n",
       "                        <td id=\"T_c4e8beb4_539f_11ea_9f77_023239005202row2_col1\" class=\"data row2 col1\" >22019.5</td>\n",
       "                        <td id=\"T_c4e8beb4_539f_11ea_9f77_023239005202row2_col2\" class=\"data row2 col2\" >3.00531e+09</td>\n",
       "            </tr>\n",
       "    </tbody></table>"
      ],
      "text/plain": [
       "<pandas.io.formats.style.Styler at 0x1874a0c7908>"
      ]
     },
     "execution_count": 14,
     "metadata": {},
     "output_type": "execute_result"
    }
   ],
   "source": [
    "# lets check the correlation in anime dataset\n",
    "x = anime.cov()\n",
    "x.style.bar(color = ['silver', 'gold'], align = 'mid')"
   ]
  },
  {
   "cell_type": "code",
   "execution_count": 15,
   "metadata": {},
   "outputs": [
    {
     "data": {
      "image/png": "[encoded data removed]",
      "text/plain": [
       "<Figure size 576x360 with 2 Axes>"
      ]
     },
     "metadata": {},
     "output_type": "display_data"
    }
   ],
   "source": [
    "# lets check the heatmap of the dataset based on correlation\n",
    "\n",
    "plt.rcParams['figure.figsize'] = (8, 5)\n",
    "sns.heatmap(anime.corr(),\n",
    "            cmap = 'Greens',\n",
    "            annot = True)\n",
    "plt.title('Correlation Map', fontsize = 20)\n",
    "plt.show()"
   ]
  },
  {
   "cell_type": "code",
   "execution_count": 16,
   "metadata": {},
   "outputs": [
    {
     "data": {
      "image/png": "[encoded data removed]",
      "text/plain": [
       "<Figure size 576x360 with 2 Axes>"
      ]
     },
     "metadata": {},
     "output_type": "display_data"
    }
   ],
   "source": [
    "# lets check the heatmap of the dataset based on correlation\n",
    "\n",
    "plt.rcParams['figure.figsize'] = (8, 5)\n",
    "sns.heatmap(anime.cov(),\n",
    "            cmap = 'Reds',\n",
    "            annot = True)\n",
    "plt.title('Covariance Map', fontsize = 20)\n",
    "plt.show()"
   ]
  },
  {
   "cell_type": "code",
   "execution_count": 108,
   "metadata": {},
   "outputs": [
    {
     "data": {
      "application/vnd.jupyter.widget-view+json": {
       "model_id": "cbac8e852e204e96b6020f9ac2a4807a",
       "version_major": 2,
       "version_minor": 0
      },
      "text/plain": [
       "Tab(children=(HTML(value='<div id=\"overview-content\" class=\"row variable spacing\">\\n    <div class=\"row\">\\n   …"
      ]
     },
     "metadata": {},
     "output_type": "display_data"
    },
    {
     "data": {
      "text/html": [
       "Report generated with <a href=\"https://github.com/pandas-profiling/pandas-profiling\">pandas-profiling</a>."
      ],
      "text/plain": [
       "<IPython.core.display.HTML object>"
      ]
     },
     "metadata": {},
     "output_type": "display_data"
    },
    {
     "data": {
      "text/plain": []
     },
     "execution_count": 108,
     "metadata": {},
     "output_type": "execute_result"
    }
   ],
   "source": [
    "# lets check the profile of the Anime Dataset\n",
    "profile.ProfileReport(anime)"
   ]
  },
  {
   "cell_type": "code",
   "execution_count": 16,
   "metadata": {},
   "outputs": [
    {
     "data": {
      "text/plain": [
       "['bmh',\n",
       " 'classic',\n",
       " 'dark_background',\n",
       " 'fast',\n",
       " 'fivethirtyeight',\n",
       " 'ggplot',\n",
       " 'grayscale',\n",
       " 'seaborn-bright',\n",
       " 'seaborn-colorblind',\n",
       " 'seaborn-dark-palette',\n",
       " 'seaborn-dark',\n",
       " 'seaborn-darkgrid',\n",
       " 'seaborn-deep',\n",
       " 'seaborn-muted',\n",
       " 'seaborn-notebook',\n",
       " 'seaborn-paper',\n",
       " 'seaborn-pastel',\n",
       " 'seaborn-poster',\n",
       " 'seaborn-talk',\n",
       " 'seaborn-ticks',\n",
       " 'seaborn-white',\n",
       " 'seaborn-whitegrid',\n",
       " 'seaborn',\n",
       " 'Solarize_Light2',\n",
       " 'tableau-colorblind10',\n",
       " '_classic_test']"
      ]
     },
     "execution_count": 16,
     "metadata": {},
     "output_type": "execute_result"
    }
   ],
   "source": [
    "plt.style.available"
   ]
  },
  {
   "cell_type": "code",
   "execution_count": 17,
   "metadata": {},
   "outputs": [
    {
     "data": {
      "text/plain": [
       "Index(['anime_id', 'name', 'genre', 'type', 'episodes', 'rating', 'members'], dtype='object')"
      ]
     },
     "execution_count": 17,
     "metadata": {},
     "output_type": "execute_result"
    }
   ],
   "source": [
    "# lets check the columns inside the anime dataset\n",
    "anime.columns"
   ]
  },
  {
   "cell_type": "code",
   "execution_count": 18,
   "metadata": {},
   "outputs": [
    {
     "data": {
      "image/png": "[encoded data removed]",
      "text/plain": [
       "<Figure size 1080x504 with 1 Axes>"
      ]
     },
     "metadata": {},
     "output_type": "display_data"
    }
   ],
   "source": [
    "# lets check the univariate distribution \n",
    "\n",
    "plt.rcParams['figure.figsize'] = (15, 7)\n",
    "sns.distplot(anime['members'], color = 'blue')\n",
    "plt.title('The Distribution of Members', fontsize = 20)\n",
    "plt.show()"
   ]
  },
  {
   "cell_type": "code",
   "execution_count": 19,
   "metadata": {},
   "outputs": [
    {
     "data": {
      "image/png": "[encoded data removed]",
      "text/plain": [
       "<Figure size 1080x504 with 1 Axes>"
      ]
     },
     "metadata": {},
     "output_type": "display_data"
    }
   ],
   "source": [
    "# lets check the univariate distribution \n",
    "\n",
    "plt.rcParams['figure.figsize'] = (15, 7)\n",
    "plt.hist(anime['episodes'], color = 'red')\n",
    "plt.xticks(rotation = 90)\n",
    "plt.title('The Distribution of Episodes among Animes', fontsize = 20)\n",
    "plt.show()"
   ]
  },
  {
   "cell_type": "code",
   "execution_count": 20,
   "metadata": {},
   "outputs": [
    {
     "data": {
      "text/plain": [
       "pandas.core.series.Series"
      ]
     },
     "execution_count": 20,
     "metadata": {},
     "output_type": "execute_result"
    }
   ],
   "source": [
    "# we can see that there is an unknown value lets replace that value with 1\n",
    "anime['episodes'] = anime['episodes'].replace('Unknown', 1)\n",
    "\n",
    "# lets also check the datatype of the episodes attributes\n",
    "type(anime['episodes'])"
   ]
  },
  {
   "cell_type": "code",
   "execution_count": 21,
   "metadata": {},
   "outputs": [
    {
     "data": {
      "image/png": "[encoded data removed]",
      "text/plain": [
       "<Figure size 1080x504 with 1 Axes>"
      ]
     },
     "metadata": {},
     "output_type": "display_data"
    }
   ],
   "source": [
    "# lets check the univariate distribution \n",
    "\n",
    "plt.rcParams['figure.figsize'] = (15, 7)\n",
    "sns.distplot(anime['episodes'], color = 'black')\n",
    "plt.title('The Distribution of Episodes of Animes', fontsize = 20)\n",
    "plt.show()"
   ]
  },
  {
   "cell_type": "code",
   "execution_count": 22,
   "metadata": {},
   "outputs": [
    {
     "data": {
      "image/png": "[encoded data removed]",
      "text/plain": [
       "<Figure size 1080x504 with 1 Axes>"
      ]
     },
     "metadata": {},
     "output_type": "display_data"
    }
   ],
   "source": [
    "# lets check the univariate distribution \n",
    "\n",
    "plt.rcParams['figure.figsize'] = (15, 7)\n",
    "sns.distplot(anime['rating'], color = 'violet')\n",
    "plt.title('The Distribution of Ratings', fontsize = 20)\n",
    "plt.show()"
   ]
  },
  {
   "cell_type": "code",
   "execution_count": 23,
   "metadata": {},
   "outputs": [
    {
     "data": {
      "image/png": "[encoded data removed]",
      "text/plain": [
       "<Figure size 792x792 with 1 Axes>"
      ]
     },
     "metadata": {},
     "output_type": "display_data"
    }
   ],
   "source": [
    "# lets check the Type of Animes\n",
    "\n",
    "plt.rcParams['figure.figsize'] = (11, 11)\n",
    "anime['type'].value_counts().plot(kind = 'pie',\n",
    "                                  colors = ['silver', 'gold','orange','crimson','purple','grey'])\n",
    "plt.title('Different Types of Animes Telecasted', fontsize=20)\n",
    "plt.show()"
   ]
  },
  {
   "cell_type": "code",
   "execution_count": 24,
   "metadata": {},
   "outputs": [
    {
     "data": {
      "text/plain": [
       "Index(['anime_id', 'name', 'genre', 'type', 'episodes', 'rating', 'members'], dtype='object')"
      ]
     },
     "execution_count": 24,
     "metadata": {},
     "output_type": "execute_result"
    }
   ],
   "source": [
    "anime.columns"
   ]
  },
  {
   "cell_type": "code",
   "execution_count": 25,
   "metadata": {},
   "outputs": [
    {
     "data": {
      "image/png": "[encoded data removed]",
      "text/plain": [
       "<Figure size 1080x504 with 1 Axes>"
      ]
     },
     "metadata": {},
     "output_type": "display_data"
    }
   ],
   "source": [
    "# lets check the episodes vs Ratings\n",
    "\n",
    "plt.rcParams['figure.figsize'] = (15, 7)\n",
    "sns.scatterplot(anime['members'],\n",
    "                anime['rating'],\n",
    "                color = 'red')\n",
    "plt.title('Members vs Ratings', fontsize = 20)\n",
    "plt.show()"
   ]
  },
  {
   "cell_type": "code",
   "execution_count": 26,
   "metadata": {},
   "outputs": [],
   "source": [
    "anime['episodes'] = anime['episodes'].astype('int')"
   ]
  },
  {
   "cell_type": "code",
   "execution_count": 27,
   "metadata": {},
   "outputs": [
    {
     "data": {
      "image/png": "[encoded data removed]",
      "text/plain": [
       "<Figure size 1080x504 with 1 Axes>"
      ]
     },
     "metadata": {},
     "output_type": "display_data"
    }
   ],
   "source": [
    "# lets check the episodes vs Ratings\n",
    "\n",
    "plt.rcParams['figure.figsize'] = (15, 7)\n",
    "sns.scatterplot(anime['episodes'],\n",
    "                anime['rating'],\n",
    "                color = 'blue')\n",
    "plt.title('Episodes vs Ratings', fontsize = 20)\n",
    "plt.show()\n"
   ]
  },
  {
   "cell_type": "code",
   "execution_count": 28,
   "metadata": {},
   "outputs": [
    {
     "data": {
      "application/vnd.jupyter.widget-view+json": {
       "model_id": "ffbcbfe62fdb448aa809116d39ab2d03"
      },
      "text/html": [
       "<div>\n",
       "<style scoped>\n",
       "    .dataframe tbody tr th:only-of-type {\n",
       "        vertical-align: middle;\n",
       "    }\n",
       "\n",
       "    .dataframe tbody tr th {\n",
       "        vertical-align: top;\n",
       "    }\n",
       "\n",
       "    .dataframe thead th {\n",
       "        text-align: right;\n",
       "    }\n",
       "</style>\n",
       "<table border=\"1\" class=\"dataframe\">\n",
       "  <thead>\n",
       "    <tr style=\"text-align: right;\">\n",
       "      <th></th>\n",
       "      <th>name</th>\n",
       "      <th>rating</th>\n",
       "    </tr>\n",
       "  </thead>\n",
       "  <tbody>\n",
       "    <tr>\n",
       "      <th>10464</th>\n",
       "      <td>Taka no Tsume 8: Yoshida-kun no X-Files</td>\n",
       "      <td>10.00</td>\n",
       "    </tr>\n",
       "    <tr>\n",
       "      <th>10400</th>\n",
       "      <td>Spoon-hime no Swing Kitchen</td>\n",
       "      <td>9.60</td>\n",
       "    </tr>\n",
       "    <tr>\n",
       "      <th>9595</th>\n",
       "      <td>Mogura no Motoro</td>\n",
       "      <td>9.50</td>\n",
       "    </tr>\n",
       "    <tr>\n",
       "      <th>0</th>\n",
       "      <td>Kimi no Na wa.</td>\n",
       "      <td>9.37</td>\n",
       "    </tr>\n",
       "    <tr>\n",
       "      <th>9078</th>\n",
       "      <td>Kahei no Umi</td>\n",
       "      <td>9.33</td>\n",
       "    </tr>\n",
       "    <tr>\n",
       "      <th>1</th>\n",
       "      <td>Fullmetal Alchemist: Brotherhood</td>\n",
       "      <td>9.26</td>\n",
       "    </tr>\n",
       "    <tr>\n",
       "      <th>2</th>\n",
       "      <td>Gintama°</td>\n",
       "      <td>9.25</td>\n",
       "    </tr>\n",
       "    <tr>\n",
       "      <th>10786</th>\n",
       "      <td>Yakusoku: Africa Mizu to Midori</td>\n",
       "      <td>9.25</td>\n",
       "    </tr>\n",
       "    <tr>\n",
       "      <th>3</th>\n",
       "      <td>Steins;Gate</td>\n",
       "      <td>9.17</td>\n",
       "    </tr>\n",
       "    <tr>\n",
       "      <th>4</th>\n",
       "      <td>Gintama&amp;#039;</td>\n",
       "      <td>9.16</td>\n",
       "    </tr>\n",
       "    <tr>\n",
       "      <th>5</th>\n",
       "      <td>Haikyuu!!: Karasuno Koukou VS Shiratorizawa Ga...</td>\n",
       "      <td>9.15</td>\n",
       "    </tr>\n",
       "    <tr>\n",
       "      <th>6</th>\n",
       "      <td>Hunter x Hunter (2011)</td>\n",
       "      <td>9.13</td>\n",
       "    </tr>\n",
       "    <tr>\n",
       "      <th>9</th>\n",
       "      <td>Gintama&amp;#039;: Enchousen</td>\n",
       "      <td>9.11</td>\n",
       "    </tr>\n",
       "    <tr>\n",
       "      <th>7</th>\n",
       "      <td>Ginga Eiyuu Densetsu</td>\n",
       "      <td>9.11</td>\n",
       "    </tr>\n",
       "    <tr>\n",
       "      <th>8</th>\n",
       "      <td>Gintama Movie: Kanketsu-hen - Yorozuya yo Eien...</td>\n",
       "      <td>9.10</td>\n",
       "    </tr>\n",
       "    <tr>\n",
       "      <th>10</th>\n",
       "      <td>Clannad: After Story</td>\n",
       "      <td>9.06</td>\n",
       "    </tr>\n",
       "    <tr>\n",
       "      <th>11</th>\n",
       "      <td>Koe no Katachi</td>\n",
       "      <td>9.05</td>\n",
       "    </tr>\n",
       "    <tr>\n",
       "      <th>12</th>\n",
       "      <td>Gintama</td>\n",
       "      <td>9.04</td>\n",
       "    </tr>\n",
       "    <tr>\n",
       "      <th>10136</th>\n",
       "      <td>Santa-san wa Dai Isogashi</td>\n",
       "      <td>9.00</td>\n",
       "    </tr>\n",
       "    <tr>\n",
       "      <th>9577</th>\n",
       "      <td>Mirai ni Mukete: Bousai wo Kangaeru</td>\n",
       "      <td>9.00</td>\n",
       "    </tr>\n",
       "    <tr>\n",
       "      <th>9539</th>\n",
       "      <td>Mienu Me ni Kanjita Kumotoriyama no Asahi</td>\n",
       "      <td>9.00</td>\n",
       "    </tr>\n",
       "    <tr>\n",
       "      <th>10181</th>\n",
       "      <td>Shaka no Shougai</td>\n",
       "      <td>9.00</td>\n",
       "    </tr>\n",
       "    <tr>\n",
       "      <th>10191</th>\n",
       "      <td>Shenmi Shijie Lixian Ji</td>\n",
       "      <td>9.00</td>\n",
       "    </tr>\n",
       "    <tr>\n",
       "      <th>9831</th>\n",
       "      <td>Okaachan Gomen ne</td>\n",
       "      <td>9.00</td>\n",
       "    </tr>\n",
       "    <tr>\n",
       "      <th>13</th>\n",
       "      <td>Code Geass: Hangyaku no Lelouch R2</td>\n",
       "      <td>8.98</td>\n",
       "    </tr>\n",
       "    <tr>\n",
       "      <th>15</th>\n",
       "      <td>Sen to Chihiro no Kamikakushi</td>\n",
       "      <td>8.93</td>\n",
       "    </tr>\n",
       "    <tr>\n",
       "      <th>14</th>\n",
       "      <td>Haikyuu!! Second Season</td>\n",
       "      <td>8.93</td>\n",
       "    </tr>\n",
       "    <tr>\n",
       "      <th>16</th>\n",
       "      <td>Shigatsu wa Kimi no Uso</td>\n",
       "      <td>8.92</td>\n",
       "    </tr>\n",
       "    <tr>\n",
       "      <th>17</th>\n",
       "      <td>Mushishi Zoku Shou 2nd Season</td>\n",
       "      <td>8.88</td>\n",
       "    </tr>\n",
       "    <tr>\n",
       "      <th>18</th>\n",
       "      <td>Ookami Kodomo no Ame to Yuki</td>\n",
       "      <td>8.84</td>\n",
       "    </tr>\n",
       "  </tbody>\n",
       "</table>\n",
       "</div>"
      ],
      "text/plain": [
       "                                                    name  rating\n",
       "10464            Taka no Tsume 8: Yoshida-kun no X-Files   10.00\n",
       "10400                        Spoon-hime no Swing Kitchen    9.60\n",
       "9595                                    Mogura no Motoro    9.50\n",
       "0                                         Kimi no Na wa.    9.37\n",
       "9078                                        Kahei no Umi    9.33\n",
       "1                       Fullmetal Alchemist: Brotherhood    9.26\n",
       "2                                               Gintama°    9.25\n",
       "10786                    Yakusoku: Africa Mizu to Midori    9.25\n",
       "3                                            Steins;Gate    9.17\n",
       "4                                          Gintama&#039;    9.16\n",
       "5      Haikyuu!!: Karasuno Koukou VS Shiratorizawa Ga...    9.15\n",
       "6                                 Hunter x Hunter (2011)    9.13\n",
       "9                               Gintama&#039;: Enchousen    9.11\n",
       "7                                   Ginga Eiyuu Densetsu    9.11\n",
       "8      Gintama Movie: Kanketsu-hen - Yorozuya yo Eien...    9.10\n",
       "10                                  Clannad: After Story    9.06\n",
       "11                                        Koe no Katachi    9.05\n",
       "12                                               Gintama    9.04\n",
       "10136                          Santa-san wa Dai Isogashi    9.00\n",
       "9577                 Mirai ni Mukete: Bousai wo Kangaeru    9.00\n",
       "9539           Mienu Me ni Kanjita Kumotoriyama no Asahi    9.00\n",
       "10181                                   Shaka no Shougai    9.00\n",
       "10191                            Shenmi Shijie Lixian Ji    9.00\n",
       "9831                                   Okaachan Gomen ne    9.00\n",
       "13                    Code Geass: Hangyaku no Lelouch R2    8.98\n",
       "15                         Sen to Chihiro no Kamikakushi    8.93\n",
       "14                               Haikyuu!! Second Season    8.93\n",
       "16                               Shigatsu wa Kimi no Uso    8.92\n",
       "17                         Mushishi Zoku Shou 2nd Season    8.88\n",
       "18                          Ookami Kodomo no Ame to Yuki    8.84"
      ]
     },
     "metadata": {},
     "output_type": "display_data"
    }
   ],
   "source": [
    "# lets check the Top Rated Animes\n",
    "\n",
    "x = anime[['name','rating']]\n",
    "x = x.sort_values(by = 'rating', ascending = False)\n",
    "x.head(30)"
   ]
  },
  {
   "cell_type": "code",
   "execution_count": 29,
   "metadata": {},
   "outputs": [
    {
     "data": {
      "application/vnd.jupyter.widget-view+json": {
       "model_id": "abd3fe749db541629874598f0a7b2a7e",
       "version_major": 2,
       "version_minor": 0
      },
      "text/plain": [
       "interactive(children=(Text(value='rating', description='column'), FloatSlider(value=9.0, description='x', max=…"
      ]
     },
     "metadata": {},
     "output_type": "display_data"
    }
   ],
   "source": [
    "# lets do some interactive analysis\n",
    "\n",
    "@interact\n",
    "def show_anime(column = 'rating', x = 9.0):\n",
    "    a = anime[['name','rating']]\n",
    "    return a.loc[a[column] > x]\n",
    "    \n"
   ]
  },
  {
   "cell_type": "code",
   "execution_count": null,
   "metadata": {},
   "outputs": [],
   "source": [
    "@interact\n",
    "def show_anime(column = 'episodes', x = 1000):\n",
    "    a = anime[['name','episodes','rating']]\n",
    "    return a.loc[a[column] > x]\n",
    "    "
   ]
  },
  {
   "cell_type": "code",
   "execution_count": 31,
   "metadata": {},
   "outputs": [
    {
     "data": {
      "application/vnd.jupyter.widget-view+json": {
       "model_id": "6a813fab02d7417687d4c60124838a26",
       "version_major": 2,
       "version_minor": 0
      },
      "text/plain": [
       "interactive(children=(Text(value='members', description='column'), IntSlider(value=800000, description='x', ma…"
      ]
     },
     "metadata": {},
     "output_type": "display_data"
    }
   ],
   "source": [
    "@interact\n",
    "def show_anime(column = 'members', x = 800000):\n",
    "    a = anime[['name','members','episodes','rating']]\n",
    "    return a.loc[a[column] > x]\n",
    "    "
   ]
  },
  {
   "cell_type": "code",
   "execution_count": 110,
   "metadata": {},
   "outputs": [
    {
     "data": {
      "application/vnd.jupyter.widget-view+json": {
       "model_id": "40e804245d03433c978af868514a68ec",
       "version_major": 2,
       "version_minor": 0
      },
      "text/plain": [
       "interactive(children=(Dropdown(description='column1', options=('anime_id', 'rating', 'members'), value='anime_…"
      ]
     },
     "metadata": {},
     "output_type": "display_data"
    }
   ],
   "source": [
    "@interact\n",
    "def correlations(column1 = list(anime.select_dtypes('number').columns),\n",
    "                 column2 = list(anime.select_dtypes('number').columns[1:])):\n",
    "    print(f\"Correlations: \", {anime[column1].corr(anime[column2])})\n"
   ]
  },
  {
   "cell_type": "code",
   "execution_count": 33,
   "metadata": {},
   "outputs": [
    {
     "data": {
      "application/vnd.jupyter.widget-view+json": {
       "model_id": "88f15bb8879d449dbcd51175c7002e22",
       "version_major": 2,
       "version_minor": 0
      },
      "text/plain": [
       "interactive(children=(Dropdown(description='column1', options=('anime_id', 'episodes', 'rating', 'members'), v…"
      ]
     },
     "metadata": {},
     "output_type": "display_data"
    }
   ],
   "source": [
    "@interact\n",
    "def covariance(column1 = list(anime.select_dtypes('number').columns),\n",
    "                 column2 = list(anime.select_dtypes('number').columns[1:])):\n",
    "    print(f\"Covariance: \", {anime[column1].corr(anime[column2])})\n"
   ]
  },
  {
   "cell_type": "code",
   "execution_count": 34,
   "metadata": {},
   "outputs": [],
   "source": [
    "# lets rename the ratings dataset\n",
    "user = ratings"
   ]
  },
  {
   "cell_type": "code",
   "execution_count": 35,
   "metadata": {},
   "outputs": [
    {
     "data": {
      "text/plain": [
       "-0.7124183006535948"
      ]
     },
     "execution_count": 35,
     "metadata": {},
     "output_type": "execute_result"
    }
   ],
   "source": [
    "# User 1 has a negative in rating mean\n",
    "user[user['user_id']==1].rating.mean()"
   ]
  },
  {
   "cell_type": "code",
   "execution_count": 36,
   "metadata": {},
   "outputs": [
    {
     "data": {
      "text/plain": [
       "2.6666666666666665"
      ]
     },
     "execution_count": 36,
     "metadata": {},
     "output_type": "execute_result"
    }
   ],
   "source": [
    "# User 2 has a very low in rating mean\n",
    "user[user['user_id']==2].rating.mean()"
   ]
  },
  {
   "cell_type": "code",
   "execution_count": 37,
   "metadata": {},
   "outputs": [
    {
     "data": {
      "text/plain": [
       "4.263383297644539"
      ]
     },
     "execution_count": 37,
     "metadata": {},
     "output_type": "execute_result"
    }
   ],
   "source": [
    "# Rating mean of user 5 is very close to 5 which is half of max rating\n",
    "user[user['user_id']==5].rating.mean()"
   ]
  },
  {
   "cell_type": "code",
   "execution_count": 38,
   "metadata": {},
   "outputs": [
    {
     "name": "stdout",
     "output_type": "stream",
     "text": [
      "Average User Ratings:  6.144029546937656\n",
      "Maximum User Ratings:  10\n",
      "Minimum User Ratings:  -1\n",
      "Standard Deviation:  3.7278004201098787\n"
     ]
    }
   ],
   "source": [
    "# lets check the Statistics of Average Ratings\n",
    "\n",
    "print(\"Average User Ratings: \", user['rating'].mean())\n",
    "print(\"Maximum User Ratings: \", user['rating'].max())\n",
    "print(\"Minimum User Ratings: \", user['rating'].min())\n",
    "print(\"Standard Deviation: \", user['rating'].std())"
   ]
  },
  {
   "cell_type": "code",
   "execution_count": 39,
   "metadata": {},
   "outputs": [
    {
     "data": {
      "application/vnd.jupyter.widget-view+json": {
       "model_id": "61f19071456e4cb2959113196a908a1d"
      },
      "text/html": [
       "<div>\n",
       "<style scoped>\n",
       "    .dataframe tbody tr th:only-of-type {\n",
       "        vertical-align: middle;\n",
       "    }\n",
       "\n",
       "    .dataframe tbody tr th {\n",
       "        vertical-align: top;\n",
       "    }\n",
       "\n",
       "    .dataframe thead th {\n",
       "        text-align: right;\n",
       "    }\n",
       "</style>\n",
       "<table border=\"1\" class=\"dataframe\">\n",
       "  <thead>\n",
       "    <tr style=\"text-align: right;\">\n",
       "      <th></th>\n",
       "      <th>anime_id</th>\n",
       "      <th>rating</th>\n",
       "    </tr>\n",
       "    <tr>\n",
       "      <th>user_id</th>\n",
       "      <th></th>\n",
       "      <th></th>\n",
       "    </tr>\n",
       "  </thead>\n",
       "  <tbody>\n",
       "    <tr>\n",
       "      <th>33952</th>\n",
       "      <td>5114.0</td>\n",
       "      <td>10.0</td>\n",
       "    </tr>\n",
       "    <tr>\n",
       "      <th>64750</th>\n",
       "      <td>9031.0</td>\n",
       "      <td>10.0</td>\n",
       "    </tr>\n",
       "    <tr>\n",
       "      <th>26194</th>\n",
       "      <td>11406.0</td>\n",
       "      <td>10.0</td>\n",
       "    </tr>\n",
       "    <tr>\n",
       "      <th>54574</th>\n",
       "      <td>202.0</td>\n",
       "      <td>10.0</td>\n",
       "    </tr>\n",
       "    <tr>\n",
       "      <th>16328</th>\n",
       "      <td>2287.5</td>\n",
       "      <td>10.0</td>\n",
       "    </tr>\n",
       "    <tr>\n",
       "      <th>34194</th>\n",
       "      <td>9756.0</td>\n",
       "      <td>10.0</td>\n",
       "    </tr>\n",
       "    <tr>\n",
       "      <th>38894</th>\n",
       "      <td>1535.0</td>\n",
       "      <td>10.0</td>\n",
       "    </tr>\n",
       "    <tr>\n",
       "      <th>11789</th>\n",
       "      <td>227.0</td>\n",
       "      <td>10.0</td>\n",
       "    </tr>\n",
       "    <tr>\n",
       "      <th>38890</th>\n",
       "      <td>20.0</td>\n",
       "      <td>10.0</td>\n",
       "    </tr>\n",
       "    <tr>\n",
       "      <th>26237</th>\n",
       "      <td>1575.0</td>\n",
       "      <td>10.0</td>\n",
       "    </tr>\n",
       "  </tbody>\n",
       "</table>\n",
       "</div>"
      ],
      "text/plain": [
       "         anime_id  rating\n",
       "user_id                  \n",
       "33952      5114.0    10.0\n",
       "64750      9031.0    10.0\n",
       "26194     11406.0    10.0\n",
       "54574       202.0    10.0\n",
       "16328      2287.5    10.0\n",
       "34194      9756.0    10.0\n",
       "38894      1535.0    10.0\n",
       "11789       227.0    10.0\n",
       "38890        20.0    10.0\n",
       "26237      1575.0    10.0"
      ]
     },
     "metadata": {},
     "output_type": "display_data"
    }
   ],
   "source": [
    "# lets check the group by tables\n",
    "\n",
    "x = user.groupby(['user_id']).agg('mean')\n",
    "x = x.sort_values(by = 'rating', ascending = False)\n",
    "x.head(10)"
   ]
  },
  {
   "cell_type": "code",
   "execution_count": 40,
   "metadata": {},
   "outputs": [
    {
     "data": {
      "application/vnd.jupyter.widget-view+json": {
       "model_id": "f32a007d5d804ef280223ced78e29ab5"
      },
      "text/html": [
       "<div>\n",
       "<style scoped>\n",
       "    .dataframe tbody tr th:only-of-type {\n",
       "        vertical-align: middle;\n",
       "    }\n",
       "\n",
       "    .dataframe tbody tr th {\n",
       "        vertical-align: top;\n",
       "    }\n",
       "\n",
       "    .dataframe thead th {\n",
       "        text-align: right;\n",
       "    }\n",
       "</style>\n",
       "<table border=\"1\" class=\"dataframe\">\n",
       "  <thead>\n",
       "    <tr style=\"text-align: right;\">\n",
       "      <th></th>\n",
       "      <th>anime_id</th>\n",
       "      <th>rating</th>\n",
       "    </tr>\n",
       "    <tr>\n",
       "      <th>user_id</th>\n",
       "      <th></th>\n",
       "      <th></th>\n",
       "    </tr>\n",
       "  </thead>\n",
       "  <tbody>\n",
       "    <tr>\n",
       "      <th>7035</th>\n",
       "      <td>2716.840909</td>\n",
       "      <td>-1.0</td>\n",
       "    </tr>\n",
       "    <tr>\n",
       "      <th>6513</th>\n",
       "      <td>3418.802885</td>\n",
       "      <td>-1.0</td>\n",
       "    </tr>\n",
       "    <tr>\n",
       "      <th>35136</th>\n",
       "      <td>12385.387097</td>\n",
       "      <td>-1.0</td>\n",
       "    </tr>\n",
       "    <tr>\n",
       "      <th>11863</th>\n",
       "      <td>10889.164474</td>\n",
       "      <td>-1.0</td>\n",
       "    </tr>\n",
       "    <tr>\n",
       "      <th>11864</th>\n",
       "      <td>6547.000000</td>\n",
       "      <td>-1.0</td>\n",
       "    </tr>\n",
       "    <tr>\n",
       "      <th>49636</th>\n",
       "      <td>13235.865922</td>\n",
       "      <td>-1.0</td>\n",
       "    </tr>\n",
       "    <tr>\n",
       "      <th>29877</th>\n",
       "      <td>6643.000000</td>\n",
       "      <td>-1.0</td>\n",
       "    </tr>\n",
       "    <tr>\n",
       "      <th>49632</th>\n",
       "      <td>918.775000</td>\n",
       "      <td>-1.0</td>\n",
       "    </tr>\n",
       "    <tr>\n",
       "      <th>15076</th>\n",
       "      <td>3291.851852</td>\n",
       "      <td>-1.0</td>\n",
       "    </tr>\n",
       "    <tr>\n",
       "      <th>69466</th>\n",
       "      <td>6902.250000</td>\n",
       "      <td>-1.0</td>\n",
       "    </tr>\n",
       "  </tbody>\n",
       "</table>\n",
       "</div>"
      ],
      "text/plain": [
       "             anime_id  rating\n",
       "user_id                      \n",
       "7035      2716.840909    -1.0\n",
       "6513      3418.802885    -1.0\n",
       "35136    12385.387097    -1.0\n",
       "11863    10889.164474    -1.0\n",
       "11864     6547.000000    -1.0\n",
       "49636    13235.865922    -1.0\n",
       "29877     6643.000000    -1.0\n",
       "49632      918.775000    -1.0\n",
       "15076     3291.851852    -1.0\n",
       "69466     6902.250000    -1.0"
      ]
     },
     "metadata": {},
     "output_type": "display_data"
    }
   ],
   "source": [
    "x = user.groupby(['user_id']).agg('mean')\n",
    "x = x.sort_values(by = 'rating', ascending = True)\n",
    "x.head(10)"
   ]
  },
  {
   "cell_type": "code",
   "execution_count": 41,
   "metadata": {},
   "outputs": [
    {
     "data": {
      "application/vnd.jupyter.widget-view+json": {
       "model_id": "644fa62752da467399d4fea24f8f5742"
      },
      "text/html": [
       "<div>\n",
       "<style scoped>\n",
       "    .dataframe tbody tr th:only-of-type {\n",
       "        vertical-align: middle;\n",
       "    }\n",
       "\n",
       "    .dataframe tbody tr th {\n",
       "        vertical-align: top;\n",
       "    }\n",
       "\n",
       "    .dataframe thead th {\n",
       "        text-align: right;\n",
       "    }\n",
       "</style>\n",
       "<table border=\"1\" class=\"dataframe\">\n",
       "  <thead>\n",
       "    <tr style=\"text-align: right;\">\n",
       "      <th></th>\n",
       "      <th>user_id</th>\n",
       "      <th>rating</th>\n",
       "    </tr>\n",
       "    <tr>\n",
       "      <th>anime_id</th>\n",
       "      <th></th>\n",
       "      <th></th>\n",
       "    </tr>\n",
       "  </thead>\n",
       "  <tbody>\n",
       "    <tr>\n",
       "      <th>34252</th>\n",
       "      <td>34071.000000</td>\n",
       "      <td>10.000000</td>\n",
       "    </tr>\n",
       "    <tr>\n",
       "      <th>33791</th>\n",
       "      <td>33960.000000</td>\n",
       "      <td>10.000000</td>\n",
       "    </tr>\n",
       "    <tr>\n",
       "      <th>31211</th>\n",
       "      <td>26895.000000</td>\n",
       "      <td>10.000000</td>\n",
       "    </tr>\n",
       "    <tr>\n",
       "      <th>33484</th>\n",
       "      <td>69497.000000</td>\n",
       "      <td>10.000000</td>\n",
       "    </tr>\n",
       "    <tr>\n",
       "      <th>30939</th>\n",
       "      <td>9032.000000</td>\n",
       "      <td>9.000000</td>\n",
       "    </tr>\n",
       "    <tr>\n",
       "      <th>31972</th>\n",
       "      <td>49322.000000</td>\n",
       "      <td>9.000000</td>\n",
       "    </tr>\n",
       "    <tr>\n",
       "      <th>29837</th>\n",
       "      <td>62753.000000</td>\n",
       "      <td>9.000000</td>\n",
       "    </tr>\n",
       "    <tr>\n",
       "      <th>32422</th>\n",
       "      <td>18054.000000</td>\n",
       "      <td>9.000000</td>\n",
       "    </tr>\n",
       "    <tr>\n",
       "      <th>30484</th>\n",
       "      <td>39297.000000</td>\n",
       "      <td>8.500000</td>\n",
       "    </tr>\n",
       "    <tr>\n",
       "      <th>32281</th>\n",
       "      <td>37530.184175</td>\n",
       "      <td>8.297863</td>\n",
       "    </tr>\n",
       "  </tbody>\n",
       "</table>\n",
       "</div>"
      ],
      "text/plain": [
       "               user_id     rating\n",
       "anime_id                         \n",
       "34252     34071.000000  10.000000\n",
       "33791     33960.000000  10.000000\n",
       "31211     26895.000000  10.000000\n",
       "33484     69497.000000  10.000000\n",
       "30939      9032.000000   9.000000\n",
       "31972     49322.000000   9.000000\n",
       "29837     62753.000000   9.000000\n",
       "32422     18054.000000   9.000000\n",
       "30484     39297.000000   8.500000\n",
       "32281     37530.184175   8.297863"
      ]
     },
     "metadata": {},
     "output_type": "display_data"
    }
   ],
   "source": [
    "x = user.groupby(['anime_id']).agg('mean')\n",
    "x = x.sort_values(by = 'rating', ascending = False)\n",
    "x.head(10)"
   ]
  },
  {
   "cell_type": "code",
   "execution_count": null,
   "metadata": {},
   "outputs": [],
   "source": [
    "@interact\n",
    "def show_anime(column = 'rating', x = 9.8):\n",
    "    return user.loc[user[column] > x]"
   ]
  },
  {
   "cell_type": "code",
   "execution_count": 43,
   "metadata": {},
   "outputs": [],
   "source": [
    "MRPU = user.groupby(['user_id']).mean().reset_index()\n",
    "MRPU['mean_rating'] = MRPU['rating']\n",
    "\n",
    "MRPU.drop(['anime_id','rating'],axis=1, inplace=True)"
   ]
  },
  {
   "cell_type": "code",
   "execution_count": 44,
   "metadata": {},
   "outputs": [
    {
     "data": {
      "application/vnd.jupyter.widget-view+json": {
       "model_id": "096c85f4feae425baf3fed729498ee29"
      },
      "text/html": [
       "<div>\n",
       "<style scoped>\n",
       "    .dataframe tbody tr th:only-of-type {\n",
       "        vertical-align: middle;\n",
       "    }\n",
       "\n",
       "    .dataframe tbody tr th {\n",
       "        vertical-align: top;\n",
       "    }\n",
       "\n",
       "    .dataframe thead th {\n",
       "        text-align: right;\n",
       "    }\n",
       "</style>\n",
       "<table border=\"1\" class=\"dataframe\">\n",
       "  <thead>\n",
       "    <tr style=\"text-align: right;\">\n",
       "      <th></th>\n",
       "      <th>user_id</th>\n",
       "      <th>mean_rating</th>\n",
       "    </tr>\n",
       "  </thead>\n",
       "  <tbody>\n",
       "    <tr>\n",
       "      <th>0</th>\n",
       "      <td>1</td>\n",
       "      <td>-0.712418</td>\n",
       "    </tr>\n",
       "    <tr>\n",
       "      <th>1</th>\n",
       "      <td>2</td>\n",
       "      <td>2.666667</td>\n",
       "    </tr>\n",
       "    <tr>\n",
       "      <th>2</th>\n",
       "      <td>3</td>\n",
       "      <td>7.382979</td>\n",
       "    </tr>\n",
       "    <tr>\n",
       "      <th>3</th>\n",
       "      <td>4</td>\n",
       "      <td>-1.000000</td>\n",
       "    </tr>\n",
       "    <tr>\n",
       "      <th>4</th>\n",
       "      <td>5</td>\n",
       "      <td>4.263383</td>\n",
       "    </tr>\n",
       "    <tr>\n",
       "      <th>5</th>\n",
       "      <td>6</td>\n",
       "      <td>-1.000000</td>\n",
       "    </tr>\n",
       "    <tr>\n",
       "      <th>6</th>\n",
       "      <td>7</td>\n",
       "      <td>7.387755</td>\n",
       "    </tr>\n",
       "    <tr>\n",
       "      <th>7</th>\n",
       "      <td>8</td>\n",
       "      <td>8.333333</td>\n",
       "    </tr>\n",
       "    <tr>\n",
       "      <th>8</th>\n",
       "      <td>9</td>\n",
       "      <td>8.000000</td>\n",
       "    </tr>\n",
       "    <tr>\n",
       "      <th>9</th>\n",
       "      <td>10</td>\n",
       "      <td>2.875000</td>\n",
       "    </tr>\n",
       "  </tbody>\n",
       "</table>\n",
       "</div>"
      ],
      "text/plain": [
       "   user_id  mean_rating\n",
       "0        1    -0.712418\n",
       "1        2     2.666667\n",
       "2        3     7.382979\n",
       "3        4    -1.000000\n",
       "4        5     4.263383\n",
       "5        6    -1.000000\n",
       "6        7     7.387755\n",
       "7        8     8.333333\n",
       "8        9     8.000000\n",
       "9       10     2.875000"
      ]
     },
     "metadata": {},
     "output_type": "display_data"
    }
   ],
   "source": [
    "MRPU.head(10)"
   ]
  },
  {
   "cell_type": "code",
   "execution_count": 45,
   "metadata": {},
   "outputs": [
    {
     "data": {
      "application/vnd.jupyter.widget-view+json": {
       "model_id": "1c762038bb0d492fa193a14e68a32d95"
      },
      "text/html": [
       "<div>\n",
       "<style scoped>\n",
       "    .dataframe tbody tr th:only-of-type {\n",
       "        vertical-align: middle;\n",
       "    }\n",
       "\n",
       "    .dataframe tbody tr th {\n",
       "        vertical-align: top;\n",
       "    }\n",
       "\n",
       "    .dataframe thead th {\n",
       "        text-align: right;\n",
       "    }\n",
       "</style>\n",
       "<table border=\"1\" class=\"dataframe\">\n",
       "  <thead>\n",
       "    <tr style=\"text-align: right;\">\n",
       "      <th></th>\n",
       "      <th>user_id</th>\n",
       "      <th>anime_id</th>\n",
       "      <th>rating</th>\n",
       "      <th>mean_rating</th>\n",
       "    </tr>\n",
       "  </thead>\n",
       "  <tbody>\n",
       "    <tr>\n",
       "      <th>0</th>\n",
       "      <td>1</td>\n",
       "      <td>20</td>\n",
       "      <td>-1</td>\n",
       "      <td>-0.712418</td>\n",
       "    </tr>\n",
       "    <tr>\n",
       "      <th>1</th>\n",
       "      <td>1</td>\n",
       "      <td>24</td>\n",
       "      <td>-1</td>\n",
       "      <td>-0.712418</td>\n",
       "    </tr>\n",
       "    <tr>\n",
       "      <th>2</th>\n",
       "      <td>1</td>\n",
       "      <td>79</td>\n",
       "      <td>-1</td>\n",
       "      <td>-0.712418</td>\n",
       "    </tr>\n",
       "    <tr>\n",
       "      <th>3</th>\n",
       "      <td>1</td>\n",
       "      <td>226</td>\n",
       "      <td>-1</td>\n",
       "      <td>-0.712418</td>\n",
       "    </tr>\n",
       "    <tr>\n",
       "      <th>4</th>\n",
       "      <td>1</td>\n",
       "      <td>241</td>\n",
       "      <td>-1</td>\n",
       "      <td>-0.712418</td>\n",
       "    </tr>\n",
       "  </tbody>\n",
       "</table>\n",
       "</div>"
      ],
      "text/plain": [
       "   user_id  anime_id  rating  mean_rating\n",
       "0        1        20      -1    -0.712418\n",
       "1        1        24      -1    -0.712418\n",
       "2        1        79      -1    -0.712418\n",
       "3        1       226      -1    -0.712418\n",
       "4        1       241      -1    -0.712418"
      ]
     },
     "metadata": {},
     "output_type": "display_data"
    }
   ],
   "source": [
    "user = pd.merge(user,MRPU,on=['user_id','user_id'])\n",
    "user.head(5)"
   ]
  },
  {
   "cell_type": "code",
   "execution_count": 46,
   "metadata": {},
   "outputs": [],
   "source": [
    "user = user.drop(user[user.rating < user.mean_rating].index)"
   ]
  },
  {
   "cell_type": "code",
   "execution_count": 47,
   "metadata": {},
   "outputs": [
    {
     "data": {
      "application/vnd.jupyter.widget-view+json": {
       "model_id": "1df7db43d1f44be38311ccc803a53637"
      },
      "text/html": [
       "<div>\n",
       "<style scoped>\n",
       "    .dataframe tbody tr th:only-of-type {\n",
       "        vertical-align: middle;\n",
       "    }\n",
       "\n",
       "    .dataframe tbody tr th {\n",
       "        vertical-align: top;\n",
       "    }\n",
       "\n",
       "    .dataframe thead th {\n",
       "        text-align: right;\n",
       "    }\n",
       "</style>\n",
       "<table border=\"1\" class=\"dataframe\">\n",
       "  <thead>\n",
       "    <tr style=\"text-align: right;\">\n",
       "      <th></th>\n",
       "      <th>user_id</th>\n",
       "      <th>anime_id</th>\n",
       "      <th>rating</th>\n",
       "      <th>mean_rating</th>\n",
       "    </tr>\n",
       "  </thead>\n",
       "  <tbody>\n",
       "    <tr>\n",
       "      <th>47</th>\n",
       "      <td>1</td>\n",
       "      <td>8074</td>\n",
       "      <td>10</td>\n",
       "      <td>-0.712418</td>\n",
       "    </tr>\n",
       "    <tr>\n",
       "      <th>81</th>\n",
       "      <td>1</td>\n",
       "      <td>11617</td>\n",
       "      <td>10</td>\n",
       "      <td>-0.712418</td>\n",
       "    </tr>\n",
       "    <tr>\n",
       "      <th>83</th>\n",
       "      <td>1</td>\n",
       "      <td>11757</td>\n",
       "      <td>10</td>\n",
       "      <td>-0.712418</td>\n",
       "    </tr>\n",
       "    <tr>\n",
       "      <th>101</th>\n",
       "      <td>1</td>\n",
       "      <td>15451</td>\n",
       "      <td>10</td>\n",
       "      <td>-0.712418</td>\n",
       "    </tr>\n",
       "  </tbody>\n",
       "</table>\n",
       "</div>"
      ],
      "text/plain": [
       "     user_id  anime_id  rating  mean_rating\n",
       "47         1      8074      10    -0.712418\n",
       "81         1     11617      10    -0.712418\n",
       "83         1     11757      10    -0.712418\n",
       "101        1     15451      10    -0.712418"
      ]
     },
     "metadata": {},
     "output_type": "display_data"
    }
   ],
   "source": [
    "# anime which are assigned as user 1 favorite anime\n",
    "\n",
    "user[user['user_id']== 1].head(10)"
   ]
  },
  {
   "cell_type": "code",
   "execution_count": 48,
   "metadata": {},
   "outputs": [],
   "source": [
    "user = user.rename({'rating':'userRating'}, axis='columns')"
   ]
  },
  {
   "cell_type": "code",
   "execution_count": 49,
   "metadata": {},
   "outputs": [
    {
     "data": {
      "text/plain": [
       "Index(['user_id', 'anime_id', 'userRating', 'mean_rating'], dtype='object')"
      ]
     },
     "execution_count": 49,
     "metadata": {},
     "output_type": "execute_result"
    }
   ],
   "source": [
    "user.columns"
   ]
  },
  {
   "cell_type": "code",
   "execution_count": 50,
   "metadata": {},
   "outputs": [
    {
     "data": {
      "application/vnd.jupyter.widget-view+json": {
       "model_id": "a0118fd893574d05b1b756d91927d0af"
      },
      "text/html": [
       "<div>\n",
       "<style scoped>\n",
       "    .dataframe tbody tr th:only-of-type {\n",
       "        vertical-align: middle;\n",
       "    }\n",
       "\n",
       "    .dataframe tbody tr th {\n",
       "        vertical-align: top;\n",
       "    }\n",
       "\n",
       "    .dataframe thead th {\n",
       "        text-align: right;\n",
       "    }\n",
       "</style>\n",
       "<table border=\"1\" class=\"dataframe\">\n",
       "  <thead>\n",
       "    <tr style=\"text-align: right;\">\n",
       "      <th></th>\n",
       "      <th>anime_id</th>\n",
       "      <th>name</th>\n",
       "      <th>genre</th>\n",
       "      <th>type</th>\n",
       "      <th>episodes</th>\n",
       "      <th>rating</th>\n",
       "      <th>members</th>\n",
       "      <th>user_id</th>\n",
       "      <th>userRating</th>\n",
       "      <th>mean_rating</th>\n",
       "    </tr>\n",
       "  </thead>\n",
       "  <tbody>\n",
       "    <tr>\n",
       "      <th>0</th>\n",
       "      <td>32281</td>\n",
       "      <td>Kimi no Na wa.</td>\n",
       "      <td>Drama, Romance, School, Supernatural</td>\n",
       "      <td>Movie</td>\n",
       "      <td>1</td>\n",
       "      <td>9.37</td>\n",
       "      <td>200630</td>\n",
       "      <td>152</td>\n",
       "      <td>10</td>\n",
       "      <td>7.699301</td>\n",
       "    </tr>\n",
       "    <tr>\n",
       "      <th>1</th>\n",
       "      <td>32281</td>\n",
       "      <td>Kimi no Na wa.</td>\n",
       "      <td>Drama, Romance, School, Supernatural</td>\n",
       "      <td>Movie</td>\n",
       "      <td>1</td>\n",
       "      <td>9.37</td>\n",
       "      <td>200630</td>\n",
       "      <td>244</td>\n",
       "      <td>10</td>\n",
       "      <td>8.729242</td>\n",
       "    </tr>\n",
       "    <tr>\n",
       "      <th>2</th>\n",
       "      <td>32281</td>\n",
       "      <td>Kimi no Na wa.</td>\n",
       "      <td>Drama, Romance, School, Supernatural</td>\n",
       "      <td>Movie</td>\n",
       "      <td>1</td>\n",
       "      <td>9.37</td>\n",
       "      <td>200630</td>\n",
       "      <td>271</td>\n",
       "      <td>10</td>\n",
       "      <td>7.372287</td>\n",
       "    </tr>\n",
       "    <tr>\n",
       "      <th>3</th>\n",
       "      <td>32281</td>\n",
       "      <td>Kimi no Na wa.</td>\n",
       "      <td>Drama, Romance, School, Supernatural</td>\n",
       "      <td>Movie</td>\n",
       "      <td>1</td>\n",
       "      <td>9.37</td>\n",
       "      <td>200630</td>\n",
       "      <td>322</td>\n",
       "      <td>10</td>\n",
       "      <td>8.356322</td>\n",
       "    </tr>\n",
       "    <tr>\n",
       "      <th>4</th>\n",
       "      <td>32281</td>\n",
       "      <td>Kimi no Na wa.</td>\n",
       "      <td>Drama, Romance, School, Supernatural</td>\n",
       "      <td>Movie</td>\n",
       "      <td>1</td>\n",
       "      <td>9.37</td>\n",
       "      <td>200630</td>\n",
       "      <td>398</td>\n",
       "      <td>10</td>\n",
       "      <td>-0.832298</td>\n",
       "    </tr>\n",
       "    <tr>\n",
       "      <th>5</th>\n",
       "      <td>32281</td>\n",
       "      <td>Kimi no Na wa.</td>\n",
       "      <td>Drama, Romance, School, Supernatural</td>\n",
       "      <td>Movie</td>\n",
       "      <td>1</td>\n",
       "      <td>9.37</td>\n",
       "      <td>200630</td>\n",
       "      <td>462</td>\n",
       "      <td>8</td>\n",
       "      <td>7.374593</td>\n",
       "    </tr>\n",
       "    <tr>\n",
       "      <th>6</th>\n",
       "      <td>32281</td>\n",
       "      <td>Kimi no Na wa.</td>\n",
       "      <td>Drama, Romance, School, Supernatural</td>\n",
       "      <td>Movie</td>\n",
       "      <td>1</td>\n",
       "      <td>9.37</td>\n",
       "      <td>200630</td>\n",
       "      <td>490</td>\n",
       "      <td>10</td>\n",
       "      <td>8.062500</td>\n",
       "    </tr>\n",
       "    <tr>\n",
       "      <th>7</th>\n",
       "      <td>32281</td>\n",
       "      <td>Kimi no Na wa.</td>\n",
       "      <td>Drama, Romance, School, Supernatural</td>\n",
       "      <td>Movie</td>\n",
       "      <td>1</td>\n",
       "      <td>9.37</td>\n",
       "      <td>200630</td>\n",
       "      <td>548</td>\n",
       "      <td>10</td>\n",
       "      <td>8.112360</td>\n",
       "    </tr>\n",
       "    <tr>\n",
       "      <th>8</th>\n",
       "      <td>32281</td>\n",
       "      <td>Kimi no Na wa.</td>\n",
       "      <td>Drama, Romance, School, Supernatural</td>\n",
       "      <td>Movie</td>\n",
       "      <td>1</td>\n",
       "      <td>9.37</td>\n",
       "      <td>200630</td>\n",
       "      <td>570</td>\n",
       "      <td>10</td>\n",
       "      <td>8.388889</td>\n",
       "    </tr>\n",
       "    <tr>\n",
       "      <th>9</th>\n",
       "      <td>32281</td>\n",
       "      <td>Kimi no Na wa.</td>\n",
       "      <td>Drama, Romance, School, Supernatural</td>\n",
       "      <td>Movie</td>\n",
       "      <td>1</td>\n",
       "      <td>9.37</td>\n",
       "      <td>200630</td>\n",
       "      <td>598</td>\n",
       "      <td>10</td>\n",
       "      <td>8.680328</td>\n",
       "    </tr>\n",
       "  </tbody>\n",
       "</table>\n",
       "</div>"
      ],
      "text/plain": [
       "   anime_id            name                                 genre   type  \\\n",
       "0     32281  Kimi no Na wa.  Drama, Romance, School, Supernatural  Movie   \n",
       "1     32281  Kimi no Na wa.  Drama, Romance, School, Supernatural  Movie   \n",
       "2     32281  Kimi no Na wa.  Drama, Romance, School, Supernatural  Movie   \n",
       "3     32281  Kimi no Na wa.  Drama, Romance, School, Supernatural  Movie   \n",
       "4     32281  Kimi no Na wa.  Drama, Romance, School, Supernatural  Movie   \n",
       "5     32281  Kimi no Na wa.  Drama, Romance, School, Supernatural  Movie   \n",
       "6     32281  Kimi no Na wa.  Drama, Romance, School, Supernatural  Movie   \n",
       "7     32281  Kimi no Na wa.  Drama, Romance, School, Supernatural  Movie   \n",
       "8     32281  Kimi no Na wa.  Drama, Romance, School, Supernatural  Movie   \n",
       "9     32281  Kimi no Na wa.  Drama, Romance, School, Supernatural  Movie   \n",
       "\n",
       "   episodes  rating  members  user_id  userRating  mean_rating  \n",
       "0         1    9.37   200630      152          10     7.699301  \n",
       "1         1    9.37   200630      244          10     8.729242  \n",
       "2         1    9.37   200630      271          10     7.372287  \n",
       "3         1    9.37   200630      322          10     8.356322  \n",
       "4         1    9.37   200630      398          10    -0.832298  \n",
       "5         1    9.37   200630      462           8     7.374593  \n",
       "6         1    9.37   200630      490          10     8.062500  \n",
       "7         1    9.37   200630      548          10     8.112360  \n",
       "8         1    9.37   200630      570          10     8.388889  \n",
       "9         1    9.37   200630      598          10     8.680328  "
      ]
     },
     "metadata": {},
     "output_type": "display_data"
    }
   ],
   "source": [
    "# merge 2 dataset\n",
    "mergedata = pd.merge(anime,user,on=['anime_id','anime_id'])\n",
    "mergedata= mergedata[mergedata.user_id <= 20000]\n",
    "mergedata.head(10)"
   ]
  },
  {
   "cell_type": "code",
   "execution_count": 51,
   "metadata": {},
   "outputs": [
    {
     "data": {
      "text/plain": [
       "7852"
      ]
     },
     "execution_count": 51,
     "metadata": {},
     "output_type": "execute_result"
    }
   ],
   "source": [
    "len(mergedata['anime_id'].unique())"
   ]
  },
  {
   "cell_type": "code",
   "execution_count": 52,
   "metadata": {},
   "outputs": [
    {
     "data": {
      "text/plain": [
       "12294"
      ]
     },
     "execution_count": 52,
     "metadata": {},
     "output_type": "execute_result"
    }
   ],
   "source": [
    "len(anime['anime_id'].unique())\n"
   ]
  },
  {
   "cell_type": "code",
   "execution_count": 53,
   "metadata": {},
   "outputs": [
    {
     "data": {
      "application/vnd.jupyter.widget-view+json": {
       "model_id": "0d2293fd58c84af39b6caec4e41d5fdc"
      },
      "text/html": [
       "<div>\n",
       "<style scoped>\n",
       "    .dataframe tbody tr th:only-of-type {\n",
       "        vertical-align: middle;\n",
       "    }\n",
       "\n",
       "    .dataframe tbody tr th {\n",
       "        vertical-align: top;\n",
       "    }\n",
       "\n",
       "    .dataframe thead th {\n",
       "        text-align: right;\n",
       "    }\n",
       "</style>\n",
       "<table border=\"1\" class=\"dataframe\">\n",
       "  <thead>\n",
       "    <tr style=\"text-align: right;\">\n",
       "      <th>name</th>\n",
       "      <th>&amp;quot;Bungaku Shoujo&amp;quot; Kyou no Oyatsu: Hatsukoi</th>\n",
       "      <th>&amp;quot;Bungaku Shoujo&amp;quot; Memoire</th>\n",
       "      <th>&amp;quot;Bungaku Shoujo&amp;quot; Movie</th>\n",
       "      <th>&amp;quot;Eiji&amp;quot;</th>\n",
       "      <th>.hack//G.U. Returner</th>\n",
       "      <th>.hack//G.U. Trilogy</th>\n",
       "      <th>.hack//G.U. Trilogy: Parody Mode</th>\n",
       "      <th>.hack//Gift</th>\n",
       "      <th>.hack//Intermezzo</th>\n",
       "      <th>.hack//Liminality</th>\n",
       "      <th>...</th>\n",
       "      <th>iDOLM@STER Xenoglossia</th>\n",
       "      <th>iDOLM@STER Xenoglossia Specials</th>\n",
       "      <th>lilac (bombs Jun Togawa)</th>\n",
       "      <th>makemagic</th>\n",
       "      <th>s.CRY.ed</th>\n",
       "      <th>xxxHOLiC</th>\n",
       "      <th>xxxHOLiC Kei</th>\n",
       "      <th>xxxHOLiC Movie: Manatsu no Yoru no Yume</th>\n",
       "      <th>xxxHOLiC Rou</th>\n",
       "      <th>xxxHOLiC Shunmuki</th>\n",
       "    </tr>\n",
       "    <tr>\n",
       "      <th>user_id</th>\n",
       "      <th></th>\n",
       "      <th></th>\n",
       "      <th></th>\n",
       "      <th></th>\n",
       "      <th></th>\n",
       "      <th></th>\n",
       "      <th></th>\n",
       "      <th></th>\n",
       "      <th></th>\n",
       "      <th></th>\n",
       "      <th></th>\n",
       "      <th></th>\n",
       "      <th></th>\n",
       "      <th></th>\n",
       "      <th></th>\n",
       "      <th></th>\n",
       "      <th></th>\n",
       "      <th></th>\n",
       "      <th></th>\n",
       "      <th></th>\n",
       "      <th></th>\n",
       "    </tr>\n",
       "  </thead>\n",
       "  <tbody>\n",
       "    <tr>\n",
       "      <th>1</th>\n",
       "      <td>0</td>\n",
       "      <td>0</td>\n",
       "      <td>0</td>\n",
       "      <td>0</td>\n",
       "      <td>0</td>\n",
       "      <td>0</td>\n",
       "      <td>0</td>\n",
       "      <td>0</td>\n",
       "      <td>0</td>\n",
       "      <td>0</td>\n",
       "      <td>...</td>\n",
       "      <td>0</td>\n",
       "      <td>0</td>\n",
       "      <td>0</td>\n",
       "      <td>0</td>\n",
       "      <td>0</td>\n",
       "      <td>0</td>\n",
       "      <td>0</td>\n",
       "      <td>0</td>\n",
       "      <td>0</td>\n",
       "      <td>0</td>\n",
       "    </tr>\n",
       "    <tr>\n",
       "      <th>2</th>\n",
       "      <td>0</td>\n",
       "      <td>0</td>\n",
       "      <td>0</td>\n",
       "      <td>0</td>\n",
       "      <td>0</td>\n",
       "      <td>0</td>\n",
       "      <td>0</td>\n",
       "      <td>0</td>\n",
       "      <td>0</td>\n",
       "      <td>0</td>\n",
       "      <td>...</td>\n",
       "      <td>0</td>\n",
       "      <td>0</td>\n",
       "      <td>0</td>\n",
       "      <td>0</td>\n",
       "      <td>0</td>\n",
       "      <td>0</td>\n",
       "      <td>0</td>\n",
       "      <td>0</td>\n",
       "      <td>0</td>\n",
       "      <td>0</td>\n",
       "    </tr>\n",
       "    <tr>\n",
       "      <th>3</th>\n",
       "      <td>0</td>\n",
       "      <td>0</td>\n",
       "      <td>0</td>\n",
       "      <td>0</td>\n",
       "      <td>0</td>\n",
       "      <td>0</td>\n",
       "      <td>0</td>\n",
       "      <td>0</td>\n",
       "      <td>0</td>\n",
       "      <td>0</td>\n",
       "      <td>...</td>\n",
       "      <td>0</td>\n",
       "      <td>0</td>\n",
       "      <td>0</td>\n",
       "      <td>0</td>\n",
       "      <td>0</td>\n",
       "      <td>0</td>\n",
       "      <td>0</td>\n",
       "      <td>0</td>\n",
       "      <td>0</td>\n",
       "      <td>0</td>\n",
       "    </tr>\n",
       "    <tr>\n",
       "      <th>4</th>\n",
       "      <td>0</td>\n",
       "      <td>0</td>\n",
       "      <td>0</td>\n",
       "      <td>0</td>\n",
       "      <td>0</td>\n",
       "      <td>0</td>\n",
       "      <td>0</td>\n",
       "      <td>0</td>\n",
       "      <td>0</td>\n",
       "      <td>0</td>\n",
       "      <td>...</td>\n",
       "      <td>0</td>\n",
       "      <td>0</td>\n",
       "      <td>0</td>\n",
       "      <td>0</td>\n",
       "      <td>0</td>\n",
       "      <td>0</td>\n",
       "      <td>0</td>\n",
       "      <td>0</td>\n",
       "      <td>0</td>\n",
       "      <td>0</td>\n",
       "    </tr>\n",
       "    <tr>\n",
       "      <th>5</th>\n",
       "      <td>0</td>\n",
       "      <td>0</td>\n",
       "      <td>0</td>\n",
       "      <td>0</td>\n",
       "      <td>0</td>\n",
       "      <td>0</td>\n",
       "      <td>0</td>\n",
       "      <td>0</td>\n",
       "      <td>0</td>\n",
       "      <td>0</td>\n",
       "      <td>...</td>\n",
       "      <td>0</td>\n",
       "      <td>0</td>\n",
       "      <td>0</td>\n",
       "      <td>0</td>\n",
       "      <td>0</td>\n",
       "      <td>0</td>\n",
       "      <td>0</td>\n",
       "      <td>0</td>\n",
       "      <td>0</td>\n",
       "      <td>0</td>\n",
       "    </tr>\n",
       "    <tr>\n",
       "      <th>6</th>\n",
       "      <td>0</td>\n",
       "      <td>0</td>\n",
       "      <td>0</td>\n",
       "      <td>0</td>\n",
       "      <td>0</td>\n",
       "      <td>0</td>\n",
       "      <td>0</td>\n",
       "      <td>0</td>\n",
       "      <td>0</td>\n",
       "      <td>0</td>\n",
       "      <td>...</td>\n",
       "      <td>0</td>\n",
       "      <td>0</td>\n",
       "      <td>0</td>\n",
       "      <td>0</td>\n",
       "      <td>0</td>\n",
       "      <td>0</td>\n",
       "      <td>0</td>\n",
       "      <td>0</td>\n",
       "      <td>0</td>\n",
       "      <td>0</td>\n",
       "    </tr>\n",
       "    <tr>\n",
       "      <th>7</th>\n",
       "      <td>0</td>\n",
       "      <td>0</td>\n",
       "      <td>0</td>\n",
       "      <td>0</td>\n",
       "      <td>0</td>\n",
       "      <td>0</td>\n",
       "      <td>0</td>\n",
       "      <td>0</td>\n",
       "      <td>0</td>\n",
       "      <td>0</td>\n",
       "      <td>...</td>\n",
       "      <td>0</td>\n",
       "      <td>0</td>\n",
       "      <td>0</td>\n",
       "      <td>0</td>\n",
       "      <td>0</td>\n",
       "      <td>0</td>\n",
       "      <td>0</td>\n",
       "      <td>0</td>\n",
       "      <td>0</td>\n",
       "      <td>0</td>\n",
       "    </tr>\n",
       "    <tr>\n",
       "      <th>8</th>\n",
       "      <td>0</td>\n",
       "      <td>0</td>\n",
       "      <td>0</td>\n",
       "      <td>0</td>\n",
       "      <td>0</td>\n",
       "      <td>0</td>\n",
       "      <td>0</td>\n",
       "      <td>0</td>\n",
       "      <td>0</td>\n",
       "      <td>0</td>\n",
       "      <td>...</td>\n",
       "      <td>0</td>\n",
       "      <td>0</td>\n",
       "      <td>0</td>\n",
       "      <td>0</td>\n",
       "      <td>0</td>\n",
       "      <td>0</td>\n",
       "      <td>0</td>\n",
       "      <td>0</td>\n",
       "      <td>0</td>\n",
       "      <td>0</td>\n",
       "    </tr>\n",
       "    <tr>\n",
       "      <th>9</th>\n",
       "      <td>0</td>\n",
       "      <td>0</td>\n",
       "      <td>0</td>\n",
       "      <td>0</td>\n",
       "      <td>0</td>\n",
       "      <td>0</td>\n",
       "      <td>0</td>\n",
       "      <td>0</td>\n",
       "      <td>0</td>\n",
       "      <td>0</td>\n",
       "      <td>...</td>\n",
       "      <td>0</td>\n",
       "      <td>0</td>\n",
       "      <td>0</td>\n",
       "      <td>0</td>\n",
       "      <td>0</td>\n",
       "      <td>0</td>\n",
       "      <td>0</td>\n",
       "      <td>0</td>\n",
       "      <td>0</td>\n",
       "      <td>0</td>\n",
       "    </tr>\n",
       "    <tr>\n",
       "      <th>10</th>\n",
       "      <td>0</td>\n",
       "      <td>0</td>\n",
       "      <td>0</td>\n",
       "      <td>0</td>\n",
       "      <td>0</td>\n",
       "      <td>0</td>\n",
       "      <td>0</td>\n",
       "      <td>0</td>\n",
       "      <td>0</td>\n",
       "      <td>0</td>\n",
       "      <td>...</td>\n",
       "      <td>0</td>\n",
       "      <td>0</td>\n",
       "      <td>0</td>\n",
       "      <td>0</td>\n",
       "      <td>0</td>\n",
       "      <td>0</td>\n",
       "      <td>0</td>\n",
       "      <td>0</td>\n",
       "      <td>0</td>\n",
       "      <td>0</td>\n",
       "    </tr>\n",
       "  </tbody>\n",
       "</table>\n",
       "<p>10 rows × 7852 columns</p>\n",
       "</div>"
      ],
      "text/plain": [
       "name     &quot;Bungaku Shoujo&quot; Kyou no Oyatsu: Hatsukoi  \\\n",
       "user_id                                                        \n",
       "1                                                        0     \n",
       "2                                                        0     \n",
       "3                                                        0     \n",
       "4                                                        0     \n",
       "5                                                        0     \n",
       "6                                                        0     \n",
       "7                                                        0     \n",
       "8                                                        0     \n",
       "9                                                        0     \n",
       "10                                                       0     \n",
       "\n",
       "name     &quot;Bungaku Shoujo&quot; Memoire  &quot;Bungaku Shoujo&quot; Movie  \\\n",
       "user_id                                                                         \n",
       "1                                         0                                 0   \n",
       "2                                         0                                 0   \n",
       "3                                         0                                 0   \n",
       "4                                         0                                 0   \n",
       "5                                         0                                 0   \n",
       "6                                         0                                 0   \n",
       "7                                         0                                 0   \n",
       "8                                         0                                 0   \n",
       "9                                         0                                 0   \n",
       "10                                        0                                 0   \n",
       "\n",
       "name     &quot;Eiji&quot;  .hack//G.U. Returner  .hack//G.U. Trilogy  \\\n",
       "user_id                                                                \n",
       "1                       0                     0                    0   \n",
       "2                       0                     0                    0   \n",
       "3                       0                     0                    0   \n",
       "4                       0                     0                    0   \n",
       "5                       0                     0                    0   \n",
       "6                       0                     0                    0   \n",
       "7                       0                     0                    0   \n",
       "8                       0                     0                    0   \n",
       "9                       0                     0                    0   \n",
       "10                      0                     0                    0   \n",
       "\n",
       "name     .hack//G.U. Trilogy: Parody Mode  .hack//Gift  .hack//Intermezzo  \\\n",
       "user_id                                                                     \n",
       "1                                       0            0                  0   \n",
       "2                                       0            0                  0   \n",
       "3                                       0            0                  0   \n",
       "4                                       0            0                  0   \n",
       "5                                       0            0                  0   \n",
       "6                                       0            0                  0   \n",
       "7                                       0            0                  0   \n",
       "8                                       0            0                  0   \n",
       "9                                       0            0                  0   \n",
       "10                                      0            0                  0   \n",
       "\n",
       "name     .hack//Liminality  ...  iDOLM@STER Xenoglossia  \\\n",
       "user_id                     ...                           \n",
       "1                        0  ...                       0   \n",
       "2                        0  ...                       0   \n",
       "3                        0  ...                       0   \n",
       "4                        0  ...                       0   \n",
       "5                        0  ...                       0   \n",
       "6                        0  ...                       0   \n",
       "7                        0  ...                       0   \n",
       "8                        0  ...                       0   \n",
       "9                        0  ...                       0   \n",
       "10                       0  ...                       0   \n",
       "\n",
       "name     iDOLM@STER Xenoglossia Specials  lilac (bombs Jun Togawa)  makemagic  \\\n",
       "user_id                                                                         \n",
       "1                                      0                         0          0   \n",
       "2                                      0                         0          0   \n",
       "3                                      0                         0          0   \n",
       "4                                      0                         0          0   \n",
       "5                                      0                         0          0   \n",
       "6                                      0                         0          0   \n",
       "7                                      0                         0          0   \n",
       "8                                      0                         0          0   \n",
       "9                                      0                         0          0   \n",
       "10                                     0                         0          0   \n",
       "\n",
       "name     s.CRY.ed  xxxHOLiC  xxxHOLiC Kei  \\\n",
       "user_id                                     \n",
       "1               0         0             0   \n",
       "2               0         0             0   \n",
       "3               0         0             0   \n",
       "4               0         0             0   \n",
       "5               0         0             0   \n",
       "6               0         0             0   \n",
       "7               0         0             0   \n",
       "8               0         0             0   \n",
       "9               0         0             0   \n",
       "10              0         0             0   \n",
       "\n",
       "name     xxxHOLiC Movie: Manatsu no Yoru no Yume  xxxHOLiC Rou  \\\n",
       "user_id                                                          \n",
       "1                                              0             0   \n",
       "2                                              0             0   \n",
       "3                                              0             0   \n",
       "4                                              0             0   \n",
       "5                                              0             0   \n",
       "6                                              0             0   \n",
       "7                                              0             0   \n",
       "8                                              0             0   \n",
       "9                                              0             0   \n",
       "10                                             0             0   \n",
       "\n",
       "name     xxxHOLiC Shunmuki  \n",
       "user_id                     \n",
       "1                        0  \n",
       "2                        0  \n",
       "3                        0  \n",
       "4                        0  \n",
       "5                        0  \n",
       "6                        0  \n",
       "7                        0  \n",
       "8                        0  \n",
       "9                        0  \n",
       "10                       0  \n",
       "\n",
       "[10 rows x 7852 columns]"
      ]
     },
     "metadata": {},
     "output_type": "display_data"
    }
   ],
   "source": [
    "user_anime = pd.crosstab(mergedata['user_id'], mergedata['name'])\n",
    "user_anime.head(10)\n"
   ]
  },
  {
   "cell_type": "code",
   "execution_count": 54,
   "metadata": {},
   "outputs": [
    {
     "data": {
      "text/plain": [
       "(20000, 7852)"
      ]
     },
     "execution_count": 54,
     "metadata": {},
     "output_type": "execute_result"
    }
   ],
   "source": [
    "user_anime.shape\n"
   ]
  },
  {
   "cell_type": "code",
   "execution_count": 55,
   "metadata": {},
   "outputs": [],
   "source": [
    "from sklearn.decomposition import PCA\n",
    "\n",
    "pca = PCA(n_components=3)\n",
    "pca.fit(user_anime)\n",
    "pca_samples = pca.transform(user_anime)"
   ]
  },
  {
   "cell_type": "code",
   "execution_count": 56,
   "metadata": {},
   "outputs": [
    {
     "data": {
      "application/vnd.jupyter.widget-view+json": {
       "model_id": "5bddb51f1ef643c3843f09a35e4aabeb"
      },
      "text/html": [
       "<div>\n",
       "<style scoped>\n",
       "    .dataframe tbody tr th:only-of-type {\n",
       "        vertical-align: middle;\n",
       "    }\n",
       "\n",
       "    .dataframe tbody tr th {\n",
       "        vertical-align: top;\n",
       "    }\n",
       "\n",
       "    .dataframe thead th {\n",
       "        text-align: right;\n",
       "    }\n",
       "</style>\n",
       "<table border=\"1\" class=\"dataframe\">\n",
       "  <thead>\n",
       "    <tr style=\"text-align: right;\">\n",
       "      <th></th>\n",
       "      <th>0</th>\n",
       "      <th>1</th>\n",
       "      <th>2</th>\n",
       "    </tr>\n",
       "  </thead>\n",
       "  <tbody>\n",
       "    <tr>\n",
       "      <th>0</th>\n",
       "      <td>-1.579129</td>\n",
       "      <td>-0.500240</td>\n",
       "      <td>0.415762</td>\n",
       "    </tr>\n",
       "    <tr>\n",
       "      <th>1</th>\n",
       "      <td>-1.773553</td>\n",
       "      <td>-0.272593</td>\n",
       "      <td>0.116388</td>\n",
       "    </tr>\n",
       "    <tr>\n",
       "      <th>2</th>\n",
       "      <td>0.218814</td>\n",
       "      <td>-1.232281</td>\n",
       "      <td>-0.985797</td>\n",
       "    </tr>\n",
       "    <tr>\n",
       "      <th>3</th>\n",
       "      <td>0.199435</td>\n",
       "      <td>-0.291004</td>\n",
       "      <td>0.681062</td>\n",
       "    </tr>\n",
       "    <tr>\n",
       "      <th>4</th>\n",
       "      <td>3.532125</td>\n",
       "      <td>-0.184796</td>\n",
       "      <td>-0.743321</td>\n",
       "    </tr>\n",
       "  </tbody>\n",
       "</table>\n",
       "</div>"
      ],
      "text/plain": [
       "          0         1         2\n",
       "0 -1.579129 -0.500240  0.415762\n",
       "1 -1.773553 -0.272593  0.116388\n",
       "2  0.218814 -1.232281 -0.985797\n",
       "3  0.199435 -0.291004  0.681062\n",
       "4  3.532125 -0.184796 -0.743321"
      ]
     },
     "metadata": {},
     "output_type": "display_data"
    }
   ],
   "source": [
    "ps = pd.DataFrame(pca_samples)\n",
    "ps.head()"
   ]
  },
  {
   "cell_type": "code",
   "execution_count": 57,
   "metadata": {},
   "outputs": [],
   "source": [
    "tocluster = pd.DataFrame(ps[[0,1,2]])"
   ]
  },
  {
   "cell_type": "code",
   "execution_count": 58,
   "metadata": {},
   "outputs": [
    {
     "data": {
      "image/png": "[encoded data removed]",
      "text/plain": [
       "<Figure size 432x288 with 1 Axes>"
      ]
     },
     "metadata": {
      "needs_background": "light"
     },
     "output_type": "display_data"
    }
   ],
   "source": [
    "plt.rcParams['figure.figsize'] = (16, 9)\n",
    "from mpl_toolkits.mplot3d import Axes3D\n",
    "\n",
    "%matplotlib inline\n",
    "\n",
    "fig = plt.figure()\n",
    "ax = Axes3D(fig)\n",
    "ax.scatter(tocluster[0], tocluster[2], tocluster[1])\n",
    "\n",
    "plt.title('Data points in 3D PCA axis', fontsize=20)\n",
    "plt.show()"
   ]
  },
  {
   "cell_type": "code",
   "execution_count": 59,
   "metadata": {},
   "outputs": [],
   "source": [
    "from sklearn.cluster import KMeans\n",
    "from sklearn.metrics import silhouette_score\n",
    "\n",
    "scores = []\n",
    "inertia_list = np.empty(8)\n",
    "\n",
    "for i in range(2,8):\n",
    "    kmeans = KMeans(n_clusters=i)\n",
    "    kmeans.fit(tocluster)\n",
    "    inertia_list[i] = kmeans.inertia_\n",
    "    scores.append(silhouette_score(tocluster, kmeans.labels_))\n",
    "    \n"
   ]
  },
  {
   "cell_type": "code",
   "execution_count": 60,
   "metadata": {},
   "outputs": [
    {
     "data": {
      "image/png": "[encoded data removed]",
      "text/plain": [
       "<Figure size 432x288 with 1 Axes>"
      ]
     },
     "metadata": {
      "needs_background": "light"
     },
     "output_type": "display_data"
    }
   ],
   "source": [
    "plt.plot(range(0,8),inertia_list,'-o')\n",
    "plt.xlabel('Number of cluster')\n",
    "plt.axvline(x=4, color='blue', linestyle='--')\n",
    "plt.ylabel('Inertia')\n",
    "plt.show()"
   ]
  },
  {
   "cell_type": "code",
   "execution_count": 61,
   "metadata": {},
   "outputs": [
    {
     "data": {
      "image/png": "[encoded data removed]",
      "text/plain": [
       "<Figure size 432x288 with 1 Axes>"
      ]
     },
     "metadata": {
      "needs_background": "light"
     },
     "output_type": "display_data"
    }
   ],
   "source": [
    "plt.plot(range(2,8), scores);\n",
    "plt.title('Results KMeans')\n",
    "plt.xlabel('n_clusters');\n",
    "plt.axvline(x=4, color='blue', linestyle='--')\n",
    "plt.ylabel('Silhouette Score');\n",
    "plt.show()"
   ]
  },
  {
   "cell_type": "code",
   "execution_count": 62,
   "metadata": {},
   "outputs": [
    {
     "name": "stdout",
     "output_type": "stream",
     "text": [
      "[[ 1.90045273 -1.09606743 -0.44699972]\n",
      " [-1.09748002 -0.03718036  0.06961209]\n",
      " [ 7.42138078 -0.71317155  0.78751187]\n",
      " [ 1.67073597  2.32444765 -0.01593693]]\n"
     ]
    }
   ],
   "source": [
    "from sklearn.cluster import KMeans\n",
    "\n",
    "clusterer = KMeans(n_clusters=4,random_state=30).fit(tocluster)\n",
    "centers = clusterer.cluster_centers_\n",
    "c_preds = clusterer.predict(tocluster)\n",
    "\n",
    "print(centers)"
   ]
  },
  {
   "cell_type": "code",
   "execution_count": 63,
   "metadata": {},
   "outputs": [
    {
     "data": {
      "image/png": "[encoded data removed]",
      "text/plain": [
       "<Figure size 432x288 with 1 Axes>"
      ]
     },
     "metadata": {
      "needs_background": "light"
     },
     "output_type": "display_data"
    }
   ],
   "source": [
    "fig = plt.figure()\n",
    "ax = Axes3D(fig)\n",
    "ax.scatter(tocluster[0], tocluster[2], tocluster[1], c = c_preds)\n",
    "plt.title('Data points in 3D PCA axis', fontsize=20)\n",
    "\n",
    "plt.show()\n"
   ]
  },
  {
   "cell_type": "code",
   "execution_count": 64,
   "metadata": {},
   "outputs": [
    {
     "data": {
      "image/png": "[encoded data removed]",
      "text/plain": [
       "<Figure size 720x576 with 1 Axes>"
      ]
     },
     "metadata": {
      "needs_background": "light"
     },
     "output_type": "display_data"
    }
   ],
   "source": [
    "fig = plt.figure(figsize=(10,8))\n",
    "plt.scatter(tocluster[1],tocluster[0],c = c_preds)\n",
    "for ci,c in enumerate(centers):\n",
    "    plt.plot(c[1], c[0], 'o', markersize=8, color='red', alpha=1)\n",
    "\n",
    "plt.xlabel('x_values')\n",
    "plt.ylabel('y_values')\n",
    "\n",
    "plt.title('Data points in 2D PCA axis', fontsize=20)\n",
    "plt.show()"
   ]
  },
  {
   "cell_type": "code",
   "execution_count": 65,
   "metadata": {},
   "outputs": [
    {
     "name": "stdout",
     "output_type": "stream",
     "text": [
      "<class 'pandas.core.frame.DataFrame'>\n",
      "Int64Index: 20000 entries, 1 to 20000\n",
      "Columns: 7853 entries, &quot;Bungaku Shoujo&quot; Kyou no Oyatsu: Hatsukoi to cluster\n",
      "dtypes: int32(1), int64(7852)\n",
      "memory usage: 1.2 GB\n"
     ]
    }
   ],
   "source": [
    "user_anime['cluster'] = c_preds\n",
    "user_anime.info()"
   ]
  },
  {
   "cell_type": "code",
   "execution_count": 66,
   "metadata": {},
   "outputs": [],
   "source": [
    "c0 = user_anime[user_anime['cluster']==0].drop('cluster',axis=1).mean()\n",
    "c1 = user_anime[user_anime['cluster']==1].drop('cluster',axis=1).mean()\n",
    "c2 = user_anime[user_anime['cluster']==2].drop('cluster',axis=1).mean()\n",
    "c3 = user_anime[user_anime['cluster']==3].drop('cluster',axis=1).mean()"
   ]
  },
  {
   "cell_type": "markdown",
   "metadata": {},
   "source": [
    "## Cluster 0"
   ]
  },
  {
   "cell_type": "code",
   "execution_count": 67,
   "metadata": {},
   "outputs": [
    {
     "data": {
      "text/plain": [
       "name\n",
       "Shingeki no Kyojin                                          0.722766\n",
       "No Game No Life                                             0.633719\n",
       "Sword Art Online                                            0.607896\n",
       "Death Note                                                  0.589789\n",
       "Angel Beats!                                                0.589196\n",
       "Steins;Gate                                                 0.545266\n",
       "Fullmetal Alchemist: Brotherhood                            0.535767\n",
       "Toradora!                                                   0.510240\n",
       "Mirai Nikki (TV)                                            0.504898\n",
       "Code Geass: Hangyaku no Lelouch                             0.501633\n",
       "Code Geass: Hangyaku no Lelouch R2                          0.473731\n",
       "One Punch Man                                               0.458890\n",
       "Noragami                                                    0.457703\n",
       "Tokyo Ghoul                                                 0.455031\n",
       "Ano Hi Mita Hana no Namae wo Bokutachi wa Mada Shiranai.    0.423568\n",
       "dtype: float64"
      ]
     },
     "execution_count": 67,
     "metadata": {},
     "output_type": "execute_result"
    }
   ],
   "source": [
    "c0.sort_values(ascending=False)[0:15]"
   ]
  },
  {
   "cell_type": "code",
   "execution_count": 68,
   "metadata": {},
   "outputs": [],
   "source": [
    "def createAnimeInfoList(animelist):\n",
    "    episode_list = list()\n",
    "    genre_list = list()\n",
    "    member_list = list()\n",
    "    rating_list= list()\n",
    "    for x in anime['name']:\n",
    "        if x in animelist:\n",
    "            episode_list.append(anime[anime['name']==x].episodes.values.astype(int))\n",
    "            member_list.append(anime[anime['name']==x].members.values.astype(int))\n",
    "            rating_list.append(anime[anime['name']==x].rating.values.astype(int))\n",
    "            for y in anime[anime['name']==x].genre.values:\n",
    "                 genre_list.append(y)\n",
    "    return genre_list,episode_list,rating_list,member_list\n",
    "         "
   ]
  },
  {
   "cell_type": "code",
   "execution_count": 69,
   "metadata": {},
   "outputs": [],
   "source": [
    "def count_word(df, ref_col, liste):\n",
    "    keyword_count = dict()\n",
    "    for s in liste: keyword_count[s] = 0\n",
    "    for liste_keywords in df[ref_col].str.split(','):        \n",
    "        if type(liste_keywords) == float and pd.isnull(liste_keywords): continue        \n",
    "        for s in [s for s in liste_keywords if s in liste]: \n",
    "            if pd.notnull(s): keyword_count[s] += 1\n",
    "    #______________________________________________________________________\n",
    "    # convert the dictionary in a list to sort the keywords by frequency\n",
    "    keyword_occurences = []\n",
    "    for k,v in keyword_count.items():\n",
    "        keyword_occurences.append([k,v])\n",
    "    keyword_occurences.sort(key = lambda x:x[1], reverse = True)\n",
    "    return keyword_occurences, keyword_count\n"
   ]
  },
  {
   "cell_type": "code",
   "execution_count": 70,
   "metadata": {},
   "outputs": [],
   "source": [
    "animelist = list(c0.index)\n",
    "data = pd.DataFrame()\n",
    "data['genre'],data['episode'],data['rating'],data['member'] =  createAnimeInfoList(animelist)"
   ]
  },
  {
   "cell_type": "code",
   "execution_count": 71,
   "metadata": {},
   "outputs": [],
   "source": [
    "set_keywords = set()\n",
    "for liste_keywords in data['genre'].str.split(',').values:\n",
    "    if isinstance(liste_keywords, float): continue  # only happen if liste_keywords = NaN\n",
    "    set_keywords = set_keywords.union(liste_keywords)"
   ]
  },
  {
   "cell_type": "code",
   "execution_count": 72,
   "metadata": {},
   "outputs": [],
   "source": [
    "from wordcloud import WordCloud\n",
    "\n",
    "def makeCloud(Dict,name,color):\n",
    "    words = dict()\n",
    "\n",
    "    for s in Dict:\n",
    "        words[s[0]] = s[1]\n",
    "\n",
    "        wordcloud = WordCloud(\n",
    "                      width=1500,\n",
    "                      height=500, \n",
    "                      background_color=color, \n",
    "                      max_words=20,\n",
    "                      max_font_size=500, \n",
    "                      normalize_plurals=False)\n",
    "        wordcloud.generate_from_frequencies(words)\n",
    "\n",
    "\n",
    "    fig = plt.figure(figsize=(12, 8))\n",
    "    plt.title(name)\n",
    "    plt.imshow(wordcloud)\n",
    "    plt.axis('off')\n",
    "\n",
    "    plt.show()\n"
   ]
  },
  {
   "cell_type": "code",
   "execution_count": 73,
   "metadata": {},
   "outputs": [
    {
     "data": {
      "image/png": "[encoded data removed]",
      "text/plain": [
       "<Figure size 864x576 with 1 Axes>"
      ]
     },
     "metadata": {
      "needs_background": "light"
     },
     "output_type": "display_data"
    }
   ],
   "source": [
    "c0_animelist = list(c0.sort_values(ascending=False)[0:15].index)\n",
    "c0_data = pd.DataFrame()\n",
    "c0_data['genre'],c0_data['episode'],c0_data['rating'],c0_data['member'] =  createAnimeInfoList(c0_animelist)\n",
    "c0_data.iloc[:,1:4] = c0_data.iloc[:,1:4].astype(int) # change to numeric object to integer\n",
    "keyword_occurences, dum = count_word(c0_data, 'genre', set_keywords)\n",
    "makeCloud(keyword_occurences[0:10],\"cluster 0\",\"lemonchiffon\")"
   ]
  },
  {
   "cell_type": "code",
   "execution_count": 74,
   "metadata": {},
   "outputs": [
    {
     "data": {
      "text/plain": [
       "[['Action', 10],\n",
       " [' Supernatural', 8],\n",
       " [' Drama', 5],\n",
       " [' Shounen', 4],\n",
       " [' Fantasy', 4]]"
      ]
     },
     "execution_count": 74,
     "metadata": {},
     "output_type": "execute_result"
    }
   ],
   "source": [
    "keyword_occurences[0:5]"
   ]
  },
  {
   "cell_type": "code",
   "execution_count": 75,
   "metadata": {},
   "outputs": [
    {
     "name": "stdout",
     "output_type": "stream",
     "text": [
      "cluster 0\n",
      "AVG episode : 23.2\n",
      "AVG movie rating : 8.066666666666666\n",
      "AVG member : 687956.2\n"
     ]
    }
   ],
   "source": [
    "print('cluster 0\\nAVG episode : {0}\\nAVG movie rating : {1}\\nAVG member : {2}'\n",
    "      .format(c0_data['episode'].mean(), c0_data['rating'].mean(),c0_data['member'].mean()))"
   ]
  },
  {
   "cell_type": "markdown",
   "metadata": {},
   "source": [
    "## Cluster 1"
   ]
  },
  {
   "cell_type": "code",
   "execution_count": 76,
   "metadata": {},
   "outputs": [
    {
     "data": {
      "text/plain": [
       "name\n",
       "Death Note                            0.319365\n",
       "Shingeki no Kyojin                    0.228056\n",
       "Sword Art Online                      0.197115\n",
       "Fullmetal Alchemist: Brotherhood      0.179877\n",
       "Code Geass: Hangyaku no Lelouch       0.177786\n",
       "Sen to Chihiro no Kamikakushi         0.159322\n",
       "Angel Beats!                          0.155788\n",
       "Fullmetal Alchemist                   0.155644\n",
       "Code Geass: Hangyaku no Lelouch R2    0.152398\n",
       "Naruto                                0.145330\n",
       "Elfen Lied                            0.143671\n",
       "Ouran Koukou Host Club                0.133646\n",
       "Mirai Nikki (TV)                      0.119942\n",
       "Toradora!                             0.116408\n",
       "Howl no Ugoku Shiro                   0.114172\n",
       "dtype: float64"
      ]
     },
     "execution_count": 76,
     "metadata": {},
     "output_type": "execute_result"
    }
   ],
   "source": [
    "c1.sort_values(ascending=False)[0:15]"
   ]
  },
  {
   "cell_type": "code",
   "execution_count": 77,
   "metadata": {},
   "outputs": [
    {
     "data": {
      "image/png": "[encoded data removed]",
      "text/plain": [
       "<Figure size 864x576 with 1 Axes>"
      ]
     },
     "metadata": {
      "needs_background": "light"
     },
     "output_type": "display_data"
    }
   ],
   "source": [
    "c1_animelist = list(c1.sort_values(ascending=False)[0:15].index)\n",
    "c1_data = pd.DataFrame()\n",
    "c1_data['genre'],c1_data['episode'],c1_data['rating'],c1_data['member'] =  createAnimeInfoList(c1_animelist)\n",
    "c1_data.iloc[:,1:4] = c1_data.iloc[:,1:4].astype(int)\n",
    "keyword_occurences, dum = count_word(c1_data, 'genre', set_keywords)\n",
    "makeCloud(keyword_occurences[0:10],\"cluster 1\",\"white\")"
   ]
  },
  {
   "cell_type": "code",
   "execution_count": 78,
   "metadata": {},
   "outputs": [
    {
     "data": {
      "text/plain": [
       "[['Action', 10],\n",
       " [' Drama', 8],\n",
       " [' Shounen', 5],\n",
       " [' Supernatural', 5],\n",
       " [' Fantasy', 5]]"
      ]
     },
     "execution_count": 78,
     "metadata": {},
     "output_type": "execute_result"
    }
   ],
   "source": [
    "keyword_occurences[0:5]"
   ]
  },
  {
   "cell_type": "code",
   "execution_count": 79,
   "metadata": {},
   "outputs": [
    {
     "name": "stdout",
     "output_type": "stream",
     "text": [
      "cluster 1\n",
      "AVG episode : 38.46666666666667\n",
      "AVG movie rating : 7.866666666666666\n",
      "AVG member : 668177.0666666667\n"
     ]
    }
   ],
   "source": [
    "print('cluster 1\\nAVG episode : {0}\\nAVG movie rating : {1}\\nAVG member : {2}'\n",
    "      .format(c1_data['episode'].mean(), c1_data['rating'].mean(),c1_data['member'].mean()))"
   ]
  },
  {
   "cell_type": "markdown",
   "metadata": {},
   "source": [
    "## Cluster 2"
   ]
  },
  {
   "cell_type": "code",
   "execution_count": 80,
   "metadata": {},
   "outputs": [
    {
     "data": {
      "text/plain": [
       "name\n",
       "Angel Beats!                                           0.829670\n",
       "No Game No Life                                        0.824176\n",
       "Toradora!                                              0.809066\n",
       "Steins;Gate                                            0.791209\n",
       "Code Geass: Hangyaku no Lelouch                        0.789835\n",
       "Shingeki no Kyojin                                     0.782967\n",
       "Sword Art Online                                       0.766484\n",
       "Code Geass: Hangyaku no Lelouch R2                     0.763736\n",
       "Death Note                                             0.748626\n",
       "Bakemonogatari                                         0.745879\n",
       "Fullmetal Alchemist: Brotherhood                       0.732143\n",
       "Hataraku Maou-sama!                                    0.726648\n",
       "Mirai Nikki (TV)                                       0.723901\n",
       "Yahari Ore no Seishun Love Comedy wa Machigatteiru.    0.717033\n",
       "Clannad                                                0.712912\n",
       "dtype: float64"
      ]
     },
     "execution_count": 80,
     "metadata": {},
     "output_type": "execute_result"
    }
   ],
   "source": [
    "c2.sort_values(ascending=False)[0:15]"
   ]
  },
  {
   "cell_type": "code",
   "execution_count": 81,
   "metadata": {},
   "outputs": [
    {
     "data": {
      "image/png": "[encoded data removed]",
      "text/plain": [
       "<Figure size 864x576 with 1 Axes>"
      ]
     },
     "metadata": {
      "needs_background": "light"
     },
     "output_type": "display_data"
    }
   ],
   "source": [
    "c2_animelist = list(c2.sort_values(ascending=False)[0:15].index)\n",
    "c2_data = pd.DataFrame()\n",
    "c2_data['genre'],c2_data['episode'],c2_data['rating'],c2_data['member'] =  createAnimeInfoList(c2_animelist)\n",
    "c2_data.iloc[:,1:4] = c2_data.iloc[:,1:4].astype(int)\n",
    "keyword_occurences, dum = count_word(c2_data, 'genre', set_keywords)\n",
    "makeCloud(keyword_occurences[0:10],\"cluster 2\",\"black\")"
   ]
  },
  {
   "cell_type": "code",
   "execution_count": 82,
   "metadata": {},
   "outputs": [
    {
     "data": {
      "text/plain": [
       "[['Action', 7],\n",
       " [' Supernatural', 6],\n",
       " [' Romance', 6],\n",
       " [' Drama', 6],\n",
       " [' Fantasy', 5]]"
      ]
     },
     "execution_count": 82,
     "metadata": {},
     "output_type": "execute_result"
    }
   ],
   "source": [
    "keyword_occurences[0:5]"
   ]
  },
  {
   "cell_type": "code",
   "execution_count": 83,
   "metadata": {},
   "outputs": [
    {
     "data": {
      "text/plain": [
       "24.333333333333332"
      ]
     },
     "execution_count": 83,
     "metadata": {},
     "output_type": "execute_result"
    }
   ],
   "source": [
    "c2_data['episode'].mean()"
   ]
  },
  {
   "cell_type": "code",
   "execution_count": 84,
   "metadata": {},
   "outputs": [
    {
     "name": "stdout",
     "output_type": "stream",
     "text": [
      "cluster 2\n",
      "AVG episode : 24.333333333333332\n",
      "AVG movie rating : 8.066666666666666\n",
      "AVG member : 665432.4666666667\n"
     ]
    }
   ],
   "source": [
    "print('cluster 2\\nAVG episode : {0}\\nAVG movie rating : {1}\\nAVG member : {2}'\n",
    "      .format(c2_data['episode'].mean(), c2_data['rating'].mean(),c2_data['member'].mean()))"
   ]
  },
  {
   "cell_type": "markdown",
   "metadata": {},
   "source": [
    "## Cluster 3"
   ]
  },
  {
   "cell_type": "code",
   "execution_count": 85,
   "metadata": {},
   "outputs": [
    {
     "data": {
      "text/plain": [
       "name\n",
       "Death Note                            0.679588\n",
       "Code Geass: Hangyaku no Lelouch       0.668793\n",
       "Code Geass: Hangyaku no Lelouch R2    0.609912\n",
       "Fullmetal Alchemist                   0.601570\n",
       "Sen to Chihiro no Kamikakushi         0.583906\n",
       "Suzumiya Haruhi no Yuuutsu            0.551030\n",
       "Neon Genesis Evangelion               0.538273\n",
       "Tengen Toppa Gurren Lagann            0.530913\n",
       "Cowboy Bebop                          0.526006\n",
       "Fullmetal Alchemist: Brotherhood      0.508832\n",
       "Mononoke Hime                         0.499509\n",
       "Toradora!                             0.489696\n",
       "Elfen Lied                            0.484298\n",
       "Howl no Ugoku Shiro                   0.478901\n",
       "Samurai Champloo                      0.477920\n",
       "dtype: float64"
      ]
     },
     "execution_count": 85,
     "metadata": {},
     "output_type": "execute_result"
    }
   ],
   "source": [
    "c3.sort_values(ascending=False)[0:15]"
   ]
  },
  {
   "cell_type": "code",
   "execution_count": 86,
   "metadata": {},
   "outputs": [
    {
     "data": {
      "image/png": "[encoded data removed]",
      "text/plain": [
       "<Figure size 864x576 with 1 Axes>"
      ]
     },
     "metadata": {
      "needs_background": "light"
     },
     "output_type": "display_data"
    }
   ],
   "source": [
    "c3_animelist = list(c3.sort_values(ascending=False)[0:15].index)\n",
    "c3_data = pd.DataFrame()\n",
    "c3_data['genre'],c3_data['episode'],c3_data['rating'],c3_data['member'] =  createAnimeInfoList(c3_animelist)\n",
    "c3_data.iloc[:,1:4] = c3_data.iloc[:,1:4].astype(int)\n",
    "keyword_occurences, dum = count_word(c3_data, 'genre', set_keywords)\n",
    "makeCloud(keyword_occurences[0:10],\"cluster 3\",\"snow\")\n"
   ]
  },
  {
   "cell_type": "code",
   "execution_count": 87,
   "metadata": {},
   "outputs": [
    {
     "data": {
      "text/plain": [
       "[['Action', 10],\n",
       " [' Drama', 8],\n",
       " [' Sci-Fi', 6],\n",
       " [' Adventure', 6],\n",
       " [' Mecha', 4]]"
      ]
     },
     "execution_count": 87,
     "metadata": {},
     "output_type": "execute_result"
    }
   ],
   "source": [
    "keyword_occurences[0:5]"
   ]
  },
  {
   "cell_type": "code",
   "execution_count": 88,
   "metadata": {},
   "outputs": [
    {
     "name": "stdout",
     "output_type": "stream",
     "text": [
      "cluster 3\n",
      "AVG episode : 24.133333333333333\n",
      "AVG movie rating : 8.0\n",
      "AVG member : 561513.7333333333\n"
     ]
    }
   ],
   "source": [
    "print('cluster 3\\nAVG episode : {0}\\nAVG movie rating : {1}\\nAVG member : {2}'\n",
    "      .format(c3_data['episode'].mean(), c3_data['rating'].mean(),c3_data['member'].mean()))"
   ]
  },
  {
   "cell_type": "markdown",
   "metadata": {},
   "source": [
    "## Collaborative Filtering"
   ]
  },
  {
   "cell_type": "code",
   "execution_count": 89,
   "metadata": {},
   "outputs": [],
   "source": [
    "import scipy as sp\n",
    "from sklearn.metrics.pairwise import cosine_similarity\n",
    "import operator"
   ]
  },
  {
   "cell_type": "code",
   "execution_count": 90,
   "metadata": {},
   "outputs": [],
   "source": [
    "anime = pd.read_csv('anime.csv')\n",
    "rating = pd.read_csv('rating.csv')"
   ]
  },
  {
   "cell_type": "code",
   "execution_count": 91,
   "metadata": {},
   "outputs": [
    {
     "data": {
      "application/vnd.jupyter.widget-view+json": {
       "model_id": "c8d311eb18fc49b9960c38b9c1d721a4"
      },
      "text/html": [
       "<div>\n",
       "<style scoped>\n",
       "    .dataframe tbody tr th:only-of-type {\n",
       "        vertical-align: middle;\n",
       "    }\n",
       "\n",
       "    .dataframe tbody tr th {\n",
       "        vertical-align: top;\n",
       "    }\n",
       "\n",
       "    .dataframe thead th {\n",
       "        text-align: right;\n",
       "    }\n",
       "</style>\n",
       "<table border=\"1\" class=\"dataframe\">\n",
       "  <thead>\n",
       "    <tr style=\"text-align: right;\">\n",
       "      <th></th>\n",
       "      <th>user_id</th>\n",
       "      <th>anime_id</th>\n",
       "      <th>rating</th>\n",
       "    </tr>\n",
       "  </thead>\n",
       "  <tbody>\n",
       "    <tr>\n",
       "      <th>0</th>\n",
       "      <td>1</td>\n",
       "      <td>20</td>\n",
       "      <td>-1</td>\n",
       "    </tr>\n",
       "    <tr>\n",
       "      <th>1</th>\n",
       "      <td>1</td>\n",
       "      <td>24</td>\n",
       "      <td>-1</td>\n",
       "    </tr>\n",
       "    <tr>\n",
       "      <th>2</th>\n",
       "      <td>1</td>\n",
       "      <td>79</td>\n",
       "      <td>-1</td>\n",
       "    </tr>\n",
       "    <tr>\n",
       "      <th>3</th>\n",
       "      <td>1</td>\n",
       "      <td>226</td>\n",
       "      <td>-1</td>\n",
       "    </tr>\n",
       "    <tr>\n",
       "      <th>4</th>\n",
       "      <td>1</td>\n",
       "      <td>241</td>\n",
       "      <td>-1</td>\n",
       "    </tr>\n",
       "  </tbody>\n",
       "</table>\n",
       "</div>"
      ],
      "text/plain": [
       "   user_id  anime_id  rating\n",
       "0        1        20      -1\n",
       "1        1        24      -1\n",
       "2        1        79      -1\n",
       "3        1       226      -1\n",
       "4        1       241      -1"
      ]
     },
     "metadata": {},
     "output_type": "display_data"
    }
   ],
   "source": [
    "rating.rating.replace({-1: np.nan}, regex=True, inplace = True)\n",
    "rating.head()\n"
   ]
  },
  {
   "cell_type": "code",
   "execution_count": 92,
   "metadata": {},
   "outputs": [
    {
     "data": {
      "application/vnd.jupyter.widget-view+json": {
       "model_id": "e9d96965c8704d4aac0613481de7d4cd"
      },
      "text/html": [
       "<div>\n",
       "<style scoped>\n",
       "    .dataframe tbody tr th:only-of-type {\n",
       "        vertical-align: middle;\n",
       "    }\n",
       "\n",
       "    .dataframe tbody tr th {\n",
       "        vertical-align: top;\n",
       "    }\n",
       "\n",
       "    .dataframe thead th {\n",
       "        text-align: right;\n",
       "    }\n",
       "</style>\n",
       "<table border=\"1\" class=\"dataframe\">\n",
       "  <thead>\n",
       "    <tr style=\"text-align: right;\">\n",
       "      <th></th>\n",
       "      <th>anime_id</th>\n",
       "      <th>name</th>\n",
       "      <th>genre</th>\n",
       "      <th>type</th>\n",
       "      <th>episodes</th>\n",
       "      <th>rating</th>\n",
       "      <th>members</th>\n",
       "    </tr>\n",
       "  </thead>\n",
       "  <tbody>\n",
       "    <tr>\n",
       "      <th>1</th>\n",
       "      <td>5114</td>\n",
       "      <td>Fullmetal Alchemist: Brotherhood</td>\n",
       "      <td>Action, Adventure, Drama, Fantasy, Magic, Mili...</td>\n",
       "      <td>TV</td>\n",
       "      <td>64</td>\n",
       "      <td>9.26</td>\n",
       "      <td>793665</td>\n",
       "    </tr>\n",
       "    <tr>\n",
       "      <th>2</th>\n",
       "      <td>28977</td>\n",
       "      <td>Gintama°</td>\n",
       "      <td>Action, Comedy, Historical, Parody, Samurai, S...</td>\n",
       "      <td>TV</td>\n",
       "      <td>51</td>\n",
       "      <td>9.25</td>\n",
       "      <td>114262</td>\n",
       "    </tr>\n",
       "    <tr>\n",
       "      <th>3</th>\n",
       "      <td>9253</td>\n",
       "      <td>Steins;Gate</td>\n",
       "      <td>Sci-Fi, Thriller</td>\n",
       "      <td>TV</td>\n",
       "      <td>24</td>\n",
       "      <td>9.17</td>\n",
       "      <td>673572</td>\n",
       "    </tr>\n",
       "    <tr>\n",
       "      <th>4</th>\n",
       "      <td>9969</td>\n",
       "      <td>Gintama&amp;#039;</td>\n",
       "      <td>Action, Comedy, Historical, Parody, Samurai, S...</td>\n",
       "      <td>TV</td>\n",
       "      <td>51</td>\n",
       "      <td>9.16</td>\n",
       "      <td>151266</td>\n",
       "    </tr>\n",
       "    <tr>\n",
       "      <th>5</th>\n",
       "      <td>32935</td>\n",
       "      <td>Haikyuu!!: Karasuno Koukou VS Shiratorizawa Ga...</td>\n",
       "      <td>Comedy, Drama, School, Shounen, Sports</td>\n",
       "      <td>TV</td>\n",
       "      <td>10</td>\n",
       "      <td>9.15</td>\n",
       "      <td>93351</td>\n",
       "    </tr>\n",
       "  </tbody>\n",
       "</table>\n",
       "</div>"
      ],
      "text/plain": [
       "   anime_id                                               name  \\\n",
       "1      5114                   Fullmetal Alchemist: Brotherhood   \n",
       "2     28977                                           Gintama°   \n",
       "3      9253                                        Steins;Gate   \n",
       "4      9969                                      Gintama&#039;   \n",
       "5     32935  Haikyuu!!: Karasuno Koukou VS Shiratorizawa Ga...   \n",
       "\n",
       "                                               genre type episodes  rating  \\\n",
       "1  Action, Adventure, Drama, Fantasy, Magic, Mili...   TV       64    9.26   \n",
       "2  Action, Comedy, Historical, Parody, Samurai, S...   TV       51    9.25   \n",
       "3                                   Sci-Fi, Thriller   TV       24    9.17   \n",
       "4  Action, Comedy, Historical, Parody, Samurai, S...   TV       51    9.16   \n",
       "5             Comedy, Drama, School, Shounen, Sports   TV       10    9.15   \n",
       "\n",
       "   members  \n",
       "1   793665  \n",
       "2   114262  \n",
       "3   673572  \n",
       "4   151266  \n",
       "5    93351  "
      ]
     },
     "metadata": {},
     "output_type": "display_data"
    }
   ],
   "source": [
    "# separting only TV Animes\n",
    "\n",
    "anime_tv = anime[anime['type']=='TV']\n",
    "anime_tv.head()"
   ]
  },
  {
   "cell_type": "code",
   "execution_count": 93,
   "metadata": {},
   "outputs": [],
   "source": [
    "# Join the two dataframes on the anime_id columns\n",
    "\n",
    "merged = rating.merge(anime_tv, left_on = 'anime_id', right_on = 'anime_id', suffixes= ['_user', ''])\n",
    "merged.rename(columns = {'rating_user':'user_rating'}, inplace = True)"
   ]
  },
  {
   "cell_type": "code",
   "execution_count": 94,
   "metadata": {},
   "outputs": [
    {
     "data": {
      "application/vnd.jupyter.widget-view+json": {
       "model_id": "71751abb5922417ea6402515f4eb09c6"
      },
      "text/html": [
       "<div>\n",
       "<style scoped>\n",
       "    .dataframe tbody tr th:only-of-type {\n",
       "        vertical-align: middle;\n",
       "    }\n",
       "\n",
       "    .dataframe tbody tr th {\n",
       "        vertical-align: top;\n",
       "    }\n",
       "\n",
       "    .dataframe thead th {\n",
       "        text-align: right;\n",
       "    }\n",
       "</style>\n",
       "<table border=\"1\" class=\"dataframe\">\n",
       "  <thead>\n",
       "    <tr style=\"text-align: right;\">\n",
       "      <th></th>\n",
       "      <th>user_id</th>\n",
       "      <th>name</th>\n",
       "      <th>user_rating</th>\n",
       "    </tr>\n",
       "  </thead>\n",
       "  <tbody>\n",
       "    <tr>\n",
       "      <th>0</th>\n",
       "      <td>1</td>\n",
       "      <td>Naruto</td>\n",
       "      <td>-1</td>\n",
       "    </tr>\n",
       "    <tr>\n",
       "      <th>1</th>\n",
       "      <td>3</td>\n",
       "      <td>Naruto</td>\n",
       "      <td>8</td>\n",
       "    </tr>\n",
       "    <tr>\n",
       "      <th>2</th>\n",
       "      <td>5</td>\n",
       "      <td>Naruto</td>\n",
       "      <td>6</td>\n",
       "    </tr>\n",
       "    <tr>\n",
       "      <th>3</th>\n",
       "      <td>6</td>\n",
       "      <td>Naruto</td>\n",
       "      <td>-1</td>\n",
       "    </tr>\n",
       "    <tr>\n",
       "      <th>4</th>\n",
       "      <td>10</td>\n",
       "      <td>Naruto</td>\n",
       "      <td>-1</td>\n",
       "    </tr>\n",
       "  </tbody>\n",
       "</table>\n",
       "</div>"
      ],
      "text/plain": [
       "   user_id    name  user_rating\n",
       "0        1  Naruto           -1\n",
       "1        3  Naruto            8\n",
       "2        5  Naruto            6\n",
       "3        6  Naruto           -1\n",
       "4       10  Naruto           -1"
      ]
     },
     "metadata": {},
     "output_type": "display_data"
    }
   ],
   "source": [
    "# For computing reasons I'm limiting the dataframe length to 10,000 users\n",
    "\n",
    "merged=merged[['user_id', 'name', 'user_rating']]\n",
    "merged_sub= merged[merged.user_id <= 10000]\n",
    "merged_sub.head()"
   ]
  },
  {
   "cell_type": "code",
   "execution_count": 95,
   "metadata": {},
   "outputs": [
    {
     "data": {
      "application/vnd.jupyter.widget-view+json": {
       "model_id": "e9b9d7d4a8434aa2b2fcd8cc0d092459"
      },
      "text/html": [
       "<div>\n",
       "<style scoped>\n",
       "    .dataframe tbody tr th:only-of-type {\n",
       "        vertical-align: middle;\n",
       "    }\n",
       "\n",
       "    .dataframe tbody tr th {\n",
       "        vertical-align: top;\n",
       "    }\n",
       "\n",
       "    .dataframe thead th {\n",
       "        text-align: right;\n",
       "    }\n",
       "</style>\n",
       "<table border=\"1\" class=\"dataframe\">\n",
       "  <thead>\n",
       "    <tr style=\"text-align: right;\">\n",
       "      <th>name</th>\n",
       "      <th>.hack//Roots</th>\n",
       "      <th>.hack//Sign</th>\n",
       "      <th>.hack//Tasogare no Udewa Densetsu</th>\n",
       "      <th>009-1</th>\n",
       "      <th>07-Ghost</th>\n",
       "      <th>11eyes</th>\n",
       "      <th>12-sai.: Chicchana Mune no Tokimeki</th>\n",
       "      <th>3 Choume no Tama: Uchi no Tama Shirimasenka?</th>\n",
       "      <th>30-sai no Hoken Taiiku</th>\n",
       "      <th>91 Days</th>\n",
       "      <th>...</th>\n",
       "      <th>Zone of the Enders: Dolores, I</th>\n",
       "      <th>Zukkoke Knight: Don De La Mancha</th>\n",
       "      <th>ef: A Tale of Melodies.</th>\n",
       "      <th>ef: A Tale of Memories.</th>\n",
       "      <th>gdgd Fairies</th>\n",
       "      <th>gdgd Fairies 2</th>\n",
       "      <th>iDOLM@STER Xenoglossia</th>\n",
       "      <th>s.CRY.ed</th>\n",
       "      <th>xxxHOLiC</th>\n",
       "      <th>xxxHOLiC Kei</th>\n",
       "    </tr>\n",
       "    <tr>\n",
       "      <th>user_id</th>\n",
       "      <th></th>\n",
       "      <th></th>\n",
       "      <th></th>\n",
       "      <th></th>\n",
       "      <th></th>\n",
       "      <th></th>\n",
       "      <th></th>\n",
       "      <th></th>\n",
       "      <th></th>\n",
       "      <th></th>\n",
       "      <th></th>\n",
       "      <th></th>\n",
       "      <th></th>\n",
       "      <th></th>\n",
       "      <th></th>\n",
       "      <th></th>\n",
       "      <th></th>\n",
       "      <th></th>\n",
       "      <th></th>\n",
       "      <th></th>\n",
       "      <th></th>\n",
       "    </tr>\n",
       "  </thead>\n",
       "  <tbody>\n",
       "    <tr>\n",
       "      <th>1</th>\n",
       "      <td>NaN</td>\n",
       "      <td>NaN</td>\n",
       "      <td>NaN</td>\n",
       "      <td>NaN</td>\n",
       "      <td>NaN</td>\n",
       "      <td>-1.0</td>\n",
       "      <td>NaN</td>\n",
       "      <td>NaN</td>\n",
       "      <td>NaN</td>\n",
       "      <td>NaN</td>\n",
       "      <td>...</td>\n",
       "      <td>NaN</td>\n",
       "      <td>NaN</td>\n",
       "      <td>NaN</td>\n",
       "      <td>NaN</td>\n",
       "      <td>NaN</td>\n",
       "      <td>NaN</td>\n",
       "      <td>NaN</td>\n",
       "      <td>NaN</td>\n",
       "      <td>NaN</td>\n",
       "      <td>NaN</td>\n",
       "    </tr>\n",
       "    <tr>\n",
       "      <th>2</th>\n",
       "      <td>NaN</td>\n",
       "      <td>NaN</td>\n",
       "      <td>NaN</td>\n",
       "      <td>NaN</td>\n",
       "      <td>NaN</td>\n",
       "      <td>NaN</td>\n",
       "      <td>NaN</td>\n",
       "      <td>NaN</td>\n",
       "      <td>NaN</td>\n",
       "      <td>NaN</td>\n",
       "      <td>...</td>\n",
       "      <td>NaN</td>\n",
       "      <td>NaN</td>\n",
       "      <td>NaN</td>\n",
       "      <td>NaN</td>\n",
       "      <td>NaN</td>\n",
       "      <td>NaN</td>\n",
       "      <td>NaN</td>\n",
       "      <td>NaN</td>\n",
       "      <td>NaN</td>\n",
       "      <td>NaN</td>\n",
       "    </tr>\n",
       "    <tr>\n",
       "      <th>3</th>\n",
       "      <td>NaN</td>\n",
       "      <td>NaN</td>\n",
       "      <td>NaN</td>\n",
       "      <td>NaN</td>\n",
       "      <td>NaN</td>\n",
       "      <td>NaN</td>\n",
       "      <td>NaN</td>\n",
       "      <td>NaN</td>\n",
       "      <td>NaN</td>\n",
       "      <td>NaN</td>\n",
       "      <td>...</td>\n",
       "      <td>NaN</td>\n",
       "      <td>NaN</td>\n",
       "      <td>NaN</td>\n",
       "      <td>NaN</td>\n",
       "      <td>NaN</td>\n",
       "      <td>NaN</td>\n",
       "      <td>NaN</td>\n",
       "      <td>NaN</td>\n",
       "      <td>NaN</td>\n",
       "      <td>NaN</td>\n",
       "    </tr>\n",
       "    <tr>\n",
       "      <th>4</th>\n",
       "      <td>NaN</td>\n",
       "      <td>NaN</td>\n",
       "      <td>NaN</td>\n",
       "      <td>NaN</td>\n",
       "      <td>NaN</td>\n",
       "      <td>NaN</td>\n",
       "      <td>NaN</td>\n",
       "      <td>NaN</td>\n",
       "      <td>NaN</td>\n",
       "      <td>NaN</td>\n",
       "      <td>...</td>\n",
       "      <td>NaN</td>\n",
       "      <td>NaN</td>\n",
       "      <td>NaN</td>\n",
       "      <td>NaN</td>\n",
       "      <td>NaN</td>\n",
       "      <td>NaN</td>\n",
       "      <td>NaN</td>\n",
       "      <td>NaN</td>\n",
       "      <td>NaN</td>\n",
       "      <td>NaN</td>\n",
       "    </tr>\n",
       "    <tr>\n",
       "      <th>5</th>\n",
       "      <td>NaN</td>\n",
       "      <td>NaN</td>\n",
       "      <td>NaN</td>\n",
       "      <td>NaN</td>\n",
       "      <td>NaN</td>\n",
       "      <td>NaN</td>\n",
       "      <td>NaN</td>\n",
       "      <td>NaN</td>\n",
       "      <td>NaN</td>\n",
       "      <td>NaN</td>\n",
       "      <td>...</td>\n",
       "      <td>NaN</td>\n",
       "      <td>NaN</td>\n",
       "      <td>NaN</td>\n",
       "      <td>NaN</td>\n",
       "      <td>NaN</td>\n",
       "      <td>NaN</td>\n",
       "      <td>NaN</td>\n",
       "      <td>NaN</td>\n",
       "      <td>2.0</td>\n",
       "      <td>NaN</td>\n",
       "    </tr>\n",
       "    <tr>\n",
       "      <th>6</th>\n",
       "      <td>NaN</td>\n",
       "      <td>NaN</td>\n",
       "      <td>NaN</td>\n",
       "      <td>NaN</td>\n",
       "      <td>NaN</td>\n",
       "      <td>NaN</td>\n",
       "      <td>NaN</td>\n",
       "      <td>NaN</td>\n",
       "      <td>NaN</td>\n",
       "      <td>NaN</td>\n",
       "      <td>...</td>\n",
       "      <td>NaN</td>\n",
       "      <td>NaN</td>\n",
       "      <td>NaN</td>\n",
       "      <td>NaN</td>\n",
       "      <td>NaN</td>\n",
       "      <td>NaN</td>\n",
       "      <td>NaN</td>\n",
       "      <td>NaN</td>\n",
       "      <td>NaN</td>\n",
       "      <td>NaN</td>\n",
       "    </tr>\n",
       "    <tr>\n",
       "      <th>7</th>\n",
       "      <td>NaN</td>\n",
       "      <td>NaN</td>\n",
       "      <td>NaN</td>\n",
       "      <td>NaN</td>\n",
       "      <td>NaN</td>\n",
       "      <td>NaN</td>\n",
       "      <td>NaN</td>\n",
       "      <td>NaN</td>\n",
       "      <td>NaN</td>\n",
       "      <td>NaN</td>\n",
       "      <td>...</td>\n",
       "      <td>NaN</td>\n",
       "      <td>NaN</td>\n",
       "      <td>NaN</td>\n",
       "      <td>NaN</td>\n",
       "      <td>NaN</td>\n",
       "      <td>NaN</td>\n",
       "      <td>NaN</td>\n",
       "      <td>NaN</td>\n",
       "      <td>NaN</td>\n",
       "      <td>NaN</td>\n",
       "    </tr>\n",
       "    <tr>\n",
       "      <th>8</th>\n",
       "      <td>NaN</td>\n",
       "      <td>NaN</td>\n",
       "      <td>NaN</td>\n",
       "      <td>NaN</td>\n",
       "      <td>NaN</td>\n",
       "      <td>NaN</td>\n",
       "      <td>NaN</td>\n",
       "      <td>NaN</td>\n",
       "      <td>NaN</td>\n",
       "      <td>NaN</td>\n",
       "      <td>...</td>\n",
       "      <td>NaN</td>\n",
       "      <td>NaN</td>\n",
       "      <td>NaN</td>\n",
       "      <td>NaN</td>\n",
       "      <td>NaN</td>\n",
       "      <td>NaN</td>\n",
       "      <td>NaN</td>\n",
       "      <td>NaN</td>\n",
       "      <td>NaN</td>\n",
       "      <td>NaN</td>\n",
       "    </tr>\n",
       "    <tr>\n",
       "      <th>9</th>\n",
       "      <td>NaN</td>\n",
       "      <td>NaN</td>\n",
       "      <td>NaN</td>\n",
       "      <td>NaN</td>\n",
       "      <td>NaN</td>\n",
       "      <td>NaN</td>\n",
       "      <td>NaN</td>\n",
       "      <td>NaN</td>\n",
       "      <td>NaN</td>\n",
       "      <td>NaN</td>\n",
       "      <td>...</td>\n",
       "      <td>NaN</td>\n",
       "      <td>NaN</td>\n",
       "      <td>NaN</td>\n",
       "      <td>NaN</td>\n",
       "      <td>NaN</td>\n",
       "      <td>NaN</td>\n",
       "      <td>NaN</td>\n",
       "      <td>NaN</td>\n",
       "      <td>NaN</td>\n",
       "      <td>NaN</td>\n",
       "    </tr>\n",
       "    <tr>\n",
       "      <th>10</th>\n",
       "      <td>NaN</td>\n",
       "      <td>NaN</td>\n",
       "      <td>NaN</td>\n",
       "      <td>NaN</td>\n",
       "      <td>NaN</td>\n",
       "      <td>NaN</td>\n",
       "      <td>NaN</td>\n",
       "      <td>NaN</td>\n",
       "      <td>NaN</td>\n",
       "      <td>NaN</td>\n",
       "      <td>...</td>\n",
       "      <td>NaN</td>\n",
       "      <td>NaN</td>\n",
       "      <td>NaN</td>\n",
       "      <td>NaN</td>\n",
       "      <td>NaN</td>\n",
       "      <td>NaN</td>\n",
       "      <td>NaN</td>\n",
       "      <td>NaN</td>\n",
       "      <td>NaN</td>\n",
       "      <td>NaN</td>\n",
       "    </tr>\n",
       "  </tbody>\n",
       "</table>\n",
       "<p>10 rows × 2804 columns</p>\n",
       "</div>"
      ],
      "text/plain": [
       "name     .hack//Roots  .hack//Sign  .hack//Tasogare no Udewa Densetsu  009-1  \\\n",
       "user_id                                                                        \n",
       "1                 NaN          NaN                                NaN    NaN   \n",
       "2                 NaN          NaN                                NaN    NaN   \n",
       "3                 NaN          NaN                                NaN    NaN   \n",
       "4                 NaN          NaN                                NaN    NaN   \n",
       "5                 NaN          NaN                                NaN    NaN   \n",
       "6                 NaN          NaN                                NaN    NaN   \n",
       "7                 NaN          NaN                                NaN    NaN   \n",
       "8                 NaN          NaN                                NaN    NaN   \n",
       "9                 NaN          NaN                                NaN    NaN   \n",
       "10                NaN          NaN                                NaN    NaN   \n",
       "\n",
       "name     07-Ghost  11eyes  12-sai.: Chicchana Mune no Tokimeki  \\\n",
       "user_id                                                          \n",
       "1             NaN    -1.0                                  NaN   \n",
       "2             NaN     NaN                                  NaN   \n",
       "3             NaN     NaN                                  NaN   \n",
       "4             NaN     NaN                                  NaN   \n",
       "5             NaN     NaN                                  NaN   \n",
       "6             NaN     NaN                                  NaN   \n",
       "7             NaN     NaN                                  NaN   \n",
       "8             NaN     NaN                                  NaN   \n",
       "9             NaN     NaN                                  NaN   \n",
       "10            NaN     NaN                                  NaN   \n",
       "\n",
       "name     3 Choume no Tama: Uchi no Tama Shirimasenka?  30-sai no Hoken Taiiku  \\\n",
       "user_id                                                                         \n",
       "1                                                 NaN                     NaN   \n",
       "2                                                 NaN                     NaN   \n",
       "3                                                 NaN                     NaN   \n",
       "4                                                 NaN                     NaN   \n",
       "5                                                 NaN                     NaN   \n",
       "6                                                 NaN                     NaN   \n",
       "7                                                 NaN                     NaN   \n",
       "8                                                 NaN                     NaN   \n",
       "9                                                 NaN                     NaN   \n",
       "10                                                NaN                     NaN   \n",
       "\n",
       "name     91 Days  ...  Zone of the Enders: Dolores, I  \\\n",
       "user_id           ...                                   \n",
       "1            NaN  ...                             NaN   \n",
       "2            NaN  ...                             NaN   \n",
       "3            NaN  ...                             NaN   \n",
       "4            NaN  ...                             NaN   \n",
       "5            NaN  ...                             NaN   \n",
       "6            NaN  ...                             NaN   \n",
       "7            NaN  ...                             NaN   \n",
       "8            NaN  ...                             NaN   \n",
       "9            NaN  ...                             NaN   \n",
       "10           NaN  ...                             NaN   \n",
       "\n",
       "name     Zukkoke Knight: Don De La Mancha  ef: A Tale of Melodies.  \\\n",
       "user_id                                                              \n",
       "1                                     NaN                      NaN   \n",
       "2                                     NaN                      NaN   \n",
       "3                                     NaN                      NaN   \n",
       "4                                     NaN                      NaN   \n",
       "5                                     NaN                      NaN   \n",
       "6                                     NaN                      NaN   \n",
       "7                                     NaN                      NaN   \n",
       "8                                     NaN                      NaN   \n",
       "9                                     NaN                      NaN   \n",
       "10                                    NaN                      NaN   \n",
       "\n",
       "name     ef: A Tale of Memories.  gdgd Fairies  gdgd Fairies 2  \\\n",
       "user_id                                                          \n",
       "1                            NaN           NaN             NaN   \n",
       "2                            NaN           NaN             NaN   \n",
       "3                            NaN           NaN             NaN   \n",
       "4                            NaN           NaN             NaN   \n",
       "5                            NaN           NaN             NaN   \n",
       "6                            NaN           NaN             NaN   \n",
       "7                            NaN           NaN             NaN   \n",
       "8                            NaN           NaN             NaN   \n",
       "9                            NaN           NaN             NaN   \n",
       "10                           NaN           NaN             NaN   \n",
       "\n",
       "name     iDOLM@STER Xenoglossia  s.CRY.ed  xxxHOLiC  xxxHOLiC Kei  \n",
       "user_id                                                            \n",
       "1                           NaN       NaN       NaN           NaN  \n",
       "2                           NaN       NaN       NaN           NaN  \n",
       "3                           NaN       NaN       NaN           NaN  \n",
       "4                           NaN       NaN       NaN           NaN  \n",
       "5                           NaN       NaN       2.0           NaN  \n",
       "6                           NaN       NaN       NaN           NaN  \n",
       "7                           NaN       NaN       NaN           NaN  \n",
       "8                           NaN       NaN       NaN           NaN  \n",
       "9                           NaN       NaN       NaN           NaN  \n",
       "10                          NaN       NaN       NaN           NaN  \n",
       "\n",
       "[10 rows x 2804 columns]"
      ]
     },
     "metadata": {},
     "output_type": "display_data"
    }
   ],
   "source": [
    "piv = merged_sub.pivot_table(index=['user_id'], columns=['name'], values='user_rating')\n",
    "piv.head(10)"
   ]
  },
  {
   "cell_type": "code",
   "execution_count": 96,
   "metadata": {},
   "outputs": [],
   "source": [
    "# Note: As we are subtracting the mean from each rating to standardize\n",
    "# all users with only one rating or who had rated everything the same will be dropped\n",
    "\n",
    "# Normalize the values\n",
    "piv_norm = piv.apply(lambda x: (x-np.mean(x))/(np.max(x)-np.min(x)), axis=1)\n",
    "\n",
    "\n",
    "# Drop all columns containing only zeros representing users who did not rate\n",
    "piv_norm.fillna(0, inplace=True)\n",
    "piv_norm = piv_norm.T\n",
    "piv_norm = piv_norm.loc[:, (piv_norm != 0).any(axis=0)]\n"
   ]
  },
  {
   "cell_type": "code",
   "execution_count": 97,
   "metadata": {},
   "outputs": [],
   "source": [
    "# Our data needs to be in a sparse matrix format to be read by the following functions\n",
    "\n",
    "piv_sparse = sp.sparse.csr_matrix(piv_norm.values)\n"
   ]
  },
  {
   "cell_type": "code",
   "execution_count": 98,
   "metadata": {},
   "outputs": [],
   "source": [
    "item_similarity = cosine_similarity(piv_sparse)\n",
    "user_similarity = cosine_similarity(piv_sparse.T)"
   ]
  },
  {
   "cell_type": "code",
   "execution_count": 99,
   "metadata": {},
   "outputs": [],
   "source": [
    "# Inserting the similarity matricies into dataframe objects\n",
    "\n",
    "item_sim_df = pd.DataFrame(item_similarity, index = piv_norm.index, columns = piv_norm.index)\n",
    "user_sim_df = pd.DataFrame(user_similarity, index = piv_norm.columns, columns = piv_norm.columns)"
   ]
  },
  {
   "cell_type": "code",
   "execution_count": 100,
   "metadata": {},
   "outputs": [],
   "source": [
    "# This function will return the top 10 shows with the highest cosine similarity value\n",
    "\n",
    "def top_animes(anime_name):\n",
    "    count = 1\n",
    "    print('Similar shows to {} include:\\n'.format(anime_name))\n",
    "    for item in item_sim_df.sort_values(by = anime_name, ascending = False).index[1:11]:\n",
    "        print('No. {}: {}'.format(count, item))\n",
    "        count +=1  "
   ]
  },
  {
   "cell_type": "code",
   "execution_count": 101,
   "metadata": {},
   "outputs": [],
   "source": [
    "# This function will return the top 5 users with the highest similarity value \n",
    "\n",
    "def top_users(user):\n",
    "    \n",
    "    if user not in piv_norm.columns:\n",
    "        return('No data available on user {}'.format(user))\n",
    "    \n",
    "    print('Most Similar Users:\\n')\n",
    "    sim_values = user_sim_df.sort_values(by=user, ascending=False).loc[:,user].tolist()[1:11]\n",
    "    sim_users = user_sim_df.sort_values(by=user, ascending=False).index[1:11]\n",
    "    zipped = zip(sim_users, sim_values,)\n",
    "    for user, sim in zipped:\n",
    "        print('User #{0}, Similarity value: {1:.2f}'.format(user, sim)) "
   ]
  },
  {
   "cell_type": "code",
   "execution_count": 102,
   "metadata": {},
   "outputs": [],
   "source": [
    "# This function constructs a list of lists containing the highest rated shows per similar user\n",
    "# and returns the name of the show along with the frequency it appears in the list\n",
    "\n",
    "def similar_user_recs(user):\n",
    "    \n",
    "    if user not in piv_norm.columns:\n",
    "        return('No data available on user {}'.format(user))\n",
    "    \n",
    "    sim_users = user_sim_df.sort_values(by=user, ascending=False).index[1:11]\n",
    "    best = []\n",
    "    most_common = {}\n",
    "    \n",
    "    for i in sim_users:\n",
    "        max_score = piv_norm.loc[:, i].max()\n",
    "        best.append(piv_norm[piv_norm.loc[:, i]==max_score].index.tolist())\n",
    "    for i in range(len(best)):\n",
    "        for j in best[i]:\n",
    "            if j in most_common:\n",
    "                most_common[j] += 1\n",
    "            else:\n",
    "                most_common[j] = 1\n",
    "    sorted_list = sorted(most_common.items(), key=operator.itemgetter(1), reverse=True)\n",
    "    return sorted_list[:5]  "
   ]
  },
  {
   "cell_type": "code",
   "execution_count": 103,
   "metadata": {},
   "outputs": [],
   "source": [
    "# This function calculates the weighted average of similar users\n",
    "# to determine a potential rating for an input user and show\n",
    "\n",
    "def predicted_rating(anime_name, user):\n",
    "    sim_users = user_sim_df.sort_values(by=user, ascending=False).index[1:1000]\n",
    "    user_values = user_sim_df.sort_values(by=user, ascending=False).loc[:,user].tolist()[1:1000]\n",
    "    rating_list = []\n",
    "    weight_list = []\n",
    "    for j, i in enumerate(sim_users):\n",
    "        rating = piv.loc[i, anime_name]\n",
    "        similarity = user_values[j]\n",
    "        if np.isnan(rating):\n",
    "            continue\n",
    "        elif not np.isnan(rating):\n",
    "            rating_list.append(rating*similarity)\n",
    "            weight_list.append(similarity)\n",
    "    return sum(rating_list)/sum(weight_list)   "
   ]
  },
  {
   "cell_type": "code",
   "execution_count": 104,
   "metadata": {},
   "outputs": [
    {
     "name": "stdout",
     "output_type": "stream",
     "text": [
      "Similar shows to Cowboy Bebop include:\n",
      "\n",
      "No. 1: Samurai Champloo\n",
      "No. 2: Tengen Toppa Gurren Lagann\n",
      "No. 3: Neon Genesis Evangelion\n",
      "No. 4: Black Lagoon\n",
      "No. 5: Great Teacher Onizuka\n",
      "No. 6: Trigun\n",
      "No. 7: Black Lagoon: The Second Barrage\n",
      "No. 8: Baccano!\n",
      "No. 9: Fullmetal Alchemist: Brotherhood\n",
      "No. 10: Ghost in the Shell: Stand Alone Complex\n"
     ]
    }
   ],
   "source": [
    "top_animes('Cowboy Bebop')"
   ]
  },
  {
   "cell_type": "code",
   "execution_count": 105,
   "metadata": {},
   "outputs": [
    {
     "name": "stdout",
     "output_type": "stream",
     "text": [
      "Most Similar Users:\n",
      "\n",
      "User #4647, Similarity value: 0.55\n",
      "User #2277, Similarity value: 0.54\n",
      "User #3225, Similarity value: 0.47\n",
      "User #934, Similarity value: 0.41\n",
      "User #1406, Similarity value: 0.38\n",
      "User #6563, Similarity value: 0.38\n",
      "User #4037, Similarity value: 0.36\n",
      "User #1038, Similarity value: 0.35\n",
      "User #9577, Similarity value: 0.35\n",
      "User #3028, Similarity value: 0.32\n"
     ]
    }
   ],
   "source": [
    "top_users(3)"
   ]
  },
  {
   "cell_type": "code",
   "execution_count": 106,
   "metadata": {
    "scrolled": true
   },
   "outputs": [
    {
     "data": {
      "text/plain": [
       "[('Fullmetal Alchemist: Brotherhood', 7),\n",
       " ('Shingeki no Kyojin', 4),\n",
       " ('Toradora!', 3),\n",
       " ('Kiseijuu: Sei no Kakuritsu', 3),\n",
       " ('Akame ga Kill!', 2)]"
      ]
     },
     "execution_count": 106,
     "metadata": {},
     "output_type": "execute_result"
    }
   ],
   "source": [
    "similar_user_recs(3)"
   ]
  },
  {
   "cell_type": "code",
   "execution_count": 107,
   "metadata": {},
   "outputs": [
    {
     "data": {
      "text/plain": [
       "8.06794597380504"
      ]
     },
     "execution_count": 107,
     "metadata": {},
     "output_type": "execute_result"
    }
   ],
   "source": [
    "predicted_rating('Cowboy Bebop', 3)"
   ]
  },
  {
   "cell_type": "code",
   "execution_count": null,
   "metadata": {},
   "outputs": [],
   "source": []
  }
 ],
 "metadata": {
  "kernelspec": {
   "display_name": "Python 3",
   "language": "python",
   "name": "python3"
  },
  "language_info": {
   "codemirror_mode": {
    "name": "ipython",
    "version": 3
   },
   "file_extension": ".py",
   "mimetype": "text/x-python",
   "name": "python",
   "nbconvert_exporter": "python",
   "pygments_lexer": "ipython3",
   "version": "3.6.8"
  }
 },
 "nbformat": 4,
 "nbformat_minor": 4
}
